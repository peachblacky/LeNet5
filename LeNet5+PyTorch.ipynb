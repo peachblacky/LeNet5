{
 "cells": [
  {
   "cell_type": "code",
   "execution_count": null,
   "metadata": {
    "id": "Ctx3v9V7G81T"
   },
   "outputs": [],
   "source": [
    "import numpy as np\n",
    "from datetime import datetime \n",
    "import os\n",
    "\n",
    "import torch\n",
    "import torch.nn as nn\n",
    "import torch.nn.functional as F\n",
    "from torch.utils.data import DataLoader, Dataset\n",
    "\n",
    "from torchvision import datasets, transforms\n",
    "\n",
    "import matplotlib.pyplot as plt\n",
    "\n",
    "# check device\n",
    "DEVICE = torch.device('cuda' if torch.cuda.is_available() else 'cpu')\n",
    "kwargs = {'num_workers': 4, 'pin_memory': True} if DEVICE=='cuda' else {}"
   ]
  },
  {
   "cell_type": "code",
   "execution_count": null,
   "metadata": {
    "id": "yvZVodceHANU"
   },
   "outputs": [],
   "source": [
    "# RANDOM_SEED = 42\n",
    "LEARNING_RATE = 0.0001\n",
    "BATCH_SIZE = 32\n",
    "N_EPOCHS = 200\n",
    "\n",
    "IMG_SIZE = 32\n",
    "N_CLASSES = 7581\n",
    "\n",
    "data_root = '/path/to/dataset'"
   ]
  },
  {
   "cell_type": "code",
   "execution_count": null,
   "metadata": {
    "id": "MyH-QLlAXZGz"
   },
   "outputs": [],
   "source": [
    "#sorting images into individual folders for class recognition\n",
    "os.chdir(os.path.join(data_root, 'singles'))\n",
    "cwd = os.getcwd()\n",
    "for img in os.listdir():\n",
    "    if os.path.isdir(os.path.join(cwd, img)):\n",
    "        continue\n",
    "    dirname = img.split('.png')[0]\n",
    "    os.mkdir(dirname)\n",
    "    shutil.move(os.path.join(cwd, img), os.path.join(cwd, dirname))"
   ]
  },
  {
   "cell_type": "code",
   "execution_count": null,
   "metadata": {
    "id": "H7nL0kz_HiG4"
   },
   "outputs": [],
   "source": [
    "def train(train_loader, model, criterion, optimizer, device):\n",
    "\n",
    "    model.train()\n",
    "    running_loss = 0\n",
    "    \n",
    "    for X, y_true in train_loader:\n",
    "\n",
    "        optimizer.zero_grad()\n",
    "        \n",
    "        X = X.to(device)\n",
    "        y_true = y_true.to(device)\n",
    "    \n",
    "        # Forward\n",
    "        y_hat, _ = model(X) \n",
    "        loss = criterion(y_hat, y_true) \n",
    "        running_loss += loss.item() * X.size(0)\n",
    "\n",
    "        # Backward\n",
    "        loss.backward()\n",
    "        optimizer.step()\n",
    "        \n",
    "    epoch_loss = running_loss / len(train_loader.dataset)\n",
    "    return model, optimizer, epoch_loss"
   ]
  },
  {
   "cell_type": "code",
   "execution_count": null,
   "metadata": {
    "id": "l5lmcO7kHl7i"
   },
   "outputs": [],
   "source": [
    "def validate(valid_loader, model, criterion, device):\n",
    "   \n",
    "    model.eval()\n",
    "    running_loss = 0\n",
    "    \n",
    "    for X, y_true in valid_loader:\n",
    "    \n",
    "        X = X.to(device)\n",
    "        y_true = y_true.to(device)\n",
    "\n",
    "        # Forward pass and record loss\n",
    "        y_hat, _ = model(X) \n",
    "        loss = criterion(y_hat, y_true) \n",
    "        running_loss += loss.item() * X.size(0)\n",
    "\n",
    "    epoch_loss = running_loss / len(valid_loader.dataset)\n",
    "        \n",
    "    return model, epoch_loss"
   ]
  },
  {
   "cell_type": "code",
   "execution_count": null,
   "metadata": {
    "id": "LXEjNVa5H6iB"
   },
   "outputs": [],
   "source": [
    "def get_accuracy(model, data_loader, device):\n",
    "    \n",
    "    correct_pred = 0 \n",
    "    n = 0\n",
    "    \n",
    "    with torch.no_grad():\n",
    "        model.eval()\n",
    "        for X, y_true in data_loader:\n",
    "\n",
    "            X = X.to(device)\n",
    "            y_true = y_true.to(device)\n",
    "\n",
    "            _, y_prob = model(X)\n",
    "            _, predicted_labels = torch.max(y_prob, 1)\n",
    "\n",
    "            n += y_true.size(0)\n",
    "            correct_pred += (predicted_labels == y_true).sum()\n",
    "\n",
    "    return correct_pred.float() / n\n",
    "\n",
    "def training_loop(model, criterion, optimizer, train_loader, epochs, device, train_losses, print_every=1):\n",
    "    \n",
    "    best_loss = 1e10\n",
    " \n",
    "    # Train model\n",
    "    for epoch in range(0, epochs):\n",
    "\n",
    "        # training\n",
    "        model, optimizer, train_loss = train(train_loader, model, criterion, optimizer, device)\n",
    "        train_losses.append(train_loss)\n",
    "\n",
    "        if epoch % print_every == (print_every - 1):\n",
    "            \n",
    "            train_acc = get_accuracy(model, train_loader, device=device)\n",
    "\n",
    "            print(f'{datetime.now().time().replace(microsecond=0)} --- '\n",
    "                  f'Epoch: {epoch}\\t'\n",
    "                  f'Train loss: {train_loss:.4f}\\t'\n",
    "                  f'Train accuracy: {100 * train_acc:.2f}\\t'\n",
    "                  )\n",
    "    \n",
    "    return model, optimizer, train_losses"
   ]
  },
  {
   "cell_type": "code",
   "execution_count": null,
   "metadata": {
    "id": "NpsocJh7sWhe"
   },
   "outputs": [],
   "source": [
    "transform = transforms.Compose([\n",
    "        transforms.CenterCrop(IMG_SIZE),\n",
    "        transforms.ToTensor(),\n",
    "        transforms.Normalize([0.485, 0.456, 0.406], [0.229, 0.224, 0.225]),\n",
    "        transforms.Grayscale(),\n",
    "        transforms.ConvertImageDtype(torch.float)])"
   ]
  },
  {
   "cell_type": "code",
   "execution_count": null,
   "metadata": {
    "id": "AN86CReXuf3C"
   },
   "outputs": [],
   "source": [
    "def create_dataset(data_root, transform):\n",
    "    image_dataset = datasets.ImageFolder(os.path.join(data_root, 'glyphs'), transform)\n",
    "    dataloader = torch.utils.data.DataLoader(image_dataset, batch_size=BATCH_SIZE,\n",
    "                                                 shuffle=True, **kwargs)\n",
    "    dataset_size = len(image_dataset)\n",
    "    classes = image_dataset.classes\n",
    "\n",
    "    return dataloader, classes, dataset_size"
   ]
  },
  {
   "cell_type": "code",
   "execution_count": null,
   "metadata": {
    "colab": {
     "base_uri": "https://localhost:8080/"
    },
    "id": "1y-CMyR3xMuR",
    "outputId": "279190c6-130e-40e4-f21f-6dd682556009"
   },
   "outputs": [
    {
     "name": "stdout",
     "output_type": "stream",
     "text": [
      "Classes:  ['eight.ornm', 'five.ornm', 'four.ornm', 'glyph10074', 'glyph10310', 'glyph10354', 'glyph776', 'glyph8308', 'glyph8370', 'glyph8377', 'glyph8400', 'glyph8492', 'glyph8552', 'glyph8640', 'glyph8646', 'glyph8648', 'glyph8676', 'glyph8807', 'glyph8809', 'glyph8821', 'glyph8824', 'glyph8837', 'glyph8838', 'glyph8865', 'glyph8876', 'glyph8897', 'glyph8993', 'glyph9088', 'glyph9908', 'nine.ornm', 'one.ornm', 'seven.ornm', 'six.ornm', 'three.ornm', 'two.ornm', 'u1015F', 'u10171', 'u10184', 'u1018C', 'u1018D', 'u10980', 'u10981', 'u10982', 'u10983', 'u10984', 'u10985', 'u10986', 'u10987', 'u10988', 'u10989', 'u1098A', 'u1098B', 'u1098C', 'u1098D', 'u1098E', 'u1098F', 'u10990', 'u10991', 'u10992', 'u10993', 'u10994', 'u10995', 'u10996', 'u10997', 'u10997.salt', 'u10998', 'u10998.salt', 'u10999', 'u1099A', 'u1099B', 'u1099C', 'u1099D', 'u1099E', 'u1099F', 'u13000', 'u13001', 'u13002', 'u13003', 'u13004', 'u13005', 'u13006', 'u13007', 'u13008', 'u13009', 'u1300A', 'u1300B', 'u1300C', 'u1300D', 'u1300E', 'u1300F', 'u13010', 'u13011', 'u13012', 'u13013', 'u13014', 'u13015', 'u13016', 'u13017', 'u13018', 'u13019', 'u1301A', 'u1301B', 'u1301C', 'u1301D', 'u1301E', 'u1301F', 'u13020', 'u13021', 'u13022', 'u13023', 'u13024', 'u13025', 'u13026', 'u13027', 'u13028', 'u13029', 'u1302A', 'u1302B', 'u1302C', 'u1302D', 'u1302E', 'u1302F', 'u13030', 'u13031', 'u13032', 'u13033', 'u13034', 'u13035', 'u13036', 'u13037', 'u13038', 'u13039', 'u1303A', 'u1303B', 'u1303C', 'u1303D', 'u1303E', 'u1303F', 'u13040', 'u13041', 'u13042', 'u13043', 'u13044', 'u13045', 'u13046', 'u13047', 'u13048', 'u13049', 'u1304A', 'u1304B', 'u1304C', 'u1304D', 'u1304E', 'u1304F', 'u13050', 'u13051', 'u13052', 'u13053', 'u13054', 'u13055', 'u13056', 'u13057', 'u13058', 'u13059', 'u1305A', 'u1305B', 'u1305C', 'u1305D', 'u1305E', 'u1305F', 'u13060', 'u13061', 'u13062', 'u13063', 'u13064', 'u13065', 'u13066', 'u13067', 'u13068', 'u13069', 'u1306A', 'u1306B', 'u1306C', 'u1306D', 'u1306E', 'u1306F', 'u13070', 'u13071', 'u13072', 'u13073', 'u13074', 'u13075', 'u13076', 'u13077', 'u13078', 'u13079', 'u1307A', 'u1307B', 'u1307C', 'u1307D', 'u1307E', 'u1307F', 'u13080', 'u13081', 'u13082', 'u13083', 'u13084', 'u13085', 'u13086', 'u13087', 'u13088', 'u13089', 'u1308A', 'u1308B', 'u1308C', 'u1308D', 'u1308E', 'u1308F', 'u13090', 'u13091', 'u13092', 'u13093', 'u13094', 'u13095', 'u13096', 'u13097', 'u13098', 'u13099', 'u1309A', 'u1309B', 'u1309C', 'u1309D', 'u1309E', 'u1309F', 'u130A0', 'u130A1', 'u130A2', 'u130A3', 'u130A4', 'u130A5', 'u130A6', 'u130A7', 'u130A8', 'u130A9', 'u130AA', 'u130AB', 'u130AC', 'u130AD', 'u130AE', 'u130AF', 'u130B0', 'u130B1', 'u130B2', 'u130B3', 'u130B4', 'u130B5', 'u130B6', 'u130B7', 'u130B8', 'u130B9', 'u130BA', 'u130BB', 'u130BC', 'u130BD', 'u130BE', 'u130BF', 'u130C0', 'u130C1', 'u130C2', 'u130C3', 'u130C4', 'u130C5', 'u130C6', 'u130C7', 'u130C8', 'u130C9', 'u130CA', 'u130CB', 'u130CC', 'u130CD', 'u130CE', 'u130CF', 'u130D0', 'u130D1', 'u130D2', 'u130D3', 'u130D4', 'u130D5', 'u130D6', 'u130D7', 'u130D8', 'u130D9', 'u130DA', 'u130DB', 'u130DC', 'u130DD', 'u130DE', 'u130DF', 'u130E0', 'u130E1', 'u130E2', 'u130E3', 'u130E4', 'u130E5', 'u130E6', 'u130E7', 'u130E8', 'u130E9', 'u130EA', 'u130EB', 'u130EC', 'u130ED', 'u130EE', 'u130EF', 'u130F0', 'u130F1', 'u130F2', 'u130F3', 'u130F4', 'u130F5', 'u130F6', 'u130F7', 'u130F8', 'u130F9', 'u130FA', 'u130FB', 'u130FC', 'u130FD', 'u130FE', 'u130FF', 'u13100', 'u13101', 'u13102', 'u13103', 'u13104', 'u13105', 'u13106', 'u13107', 'u13108', 'u13109', 'u1310A', 'u1310B', 'u1310C', 'u1310D', 'u1310E', 'u1310F', 'u13110', 'u13111', 'u13112', 'u13113', 'u13114', 'u13115', 'u13116', 'u13117', 'u13118', 'u13119', 'u1311A', 'u1311B', 'u1311C', 'u1311D', 'u1311E', 'u1311F', 'u13120', 'u13121', 'u13122', 'u13123', 'u13124', 'u13125', 'u13126', 'u13127', 'u13128', 'u13129', 'u1312A', 'u1312B', 'u1312C', 'u1312D', 'u1312E', 'u1312F', 'u13130', 'u13131', 'u13132', 'u13133', 'u13134', 'u13135', 'u13136', 'u13137', 'u13138', 'u13139', 'u1313A', 'u1313B', 'u1313C', 'u1313D', 'u1313E', 'u1313F', 'u13140', 'u13141', 'u13142', 'u13143', 'u13144', 'u13145', 'u13146', 'u13147', 'u13148', 'u13149', 'u1314A', 'u1314B', 'u1314C', 'u1314D', 'u1314E', 'u1314F', 'u13150', 'u13151', 'u13152', 'u13153', 'u13154', 'u13155', 'u13156', 'u13157', 'u13158', 'u13159', 'u1315A', 'u1315B', 'u1315C', 'u1315D', 'u1315E', 'u1315F', 'u13160', 'u13161', 'u13162', 'u13163', 'u13164', 'u13165', 'u13166', 'u13167', 'u13168', 'u13169', 'u1316A', 'u1316B', 'u1316C', 'u1316D', 'u1316E', 'u1316F', 'u13170', 'u13171', 'u13172', 'u13173', 'u13174', 'u13175', 'u13176', 'u13177', 'u13178', 'u13179', 'u1317A', 'u1317B', 'u1317C', 'u1317D', 'u1317E', 'u1317F', 'u13180', 'u13181', 'u13182', 'u13183', 'u13184', 'u13185', 'u13186', 'u13187', 'u13188', 'u13189', 'u1318A', 'u1318B', 'u1318C', 'u1318D', 'u1318E', 'u1318F', 'u13190', 'u13191', 'u13192', 'u13193', 'u13194', 'u13195', 'u13196', 'u13197', 'u13198', 'u13199', 'u1319A', 'u1319B', 'u1319C', 'u1319D', 'u1319E', 'u1319F', 'u131A0', 'u131A1', 'u131A2', 'u131A3', 'u131A4', 'u131A5', 'u131A6', 'u131A7', 'u131A8', 'u131A9', 'u131AA', 'u131AB', 'u131AC', 'u131AD', 'u131AE', 'u131AF', 'u131B0', 'u131B1', 'u131B2', 'u131B3', 'u131B4', 'u131B5', 'u131B6', 'u131B7', 'u131B8', 'u131B9', 'u131BA', 'u131BB', 'u131BC', 'u131BD', 'u131BE', 'u131BF', 'u131C0', 'u131C1', 'u131C2', 'u131C3', 'u131C4', 'u131C5', 'u131C6', 'u131C7', 'u131C8', 'u131C9', 'u131CA', 'u131CB', 'u131CC', 'u131CD', 'u131CE', 'u131CF', 'u131D0', 'u131D1', 'u131D2', 'u131D3', 'u131D4', 'u131D5', 'u131D6', 'u131D7', 'u131D8', 'u131D9', 'u131DA', 'u131DB', 'u131DC', 'u131DD', 'u131DE', 'u131DF', 'u131E0', 'u131E1', 'u131E2', 'u131E3', 'u131E4', 'u131E5', 'u131E6', 'u131E7', 'u131E8', 'u131E9', 'u131EA', 'u131EB', 'u131EC', 'u131ED', 'u131EE', 'u131EF', 'u131F0', 'u131F1', 'u131F2', 'u131F3', 'u131F4', 'u131F5', 'u131F6', 'u131F7', 'u131F8', 'u131F9', 'u131FA', 'u131FB', 'u131FC', 'u131FD', 'u131FE', 'u131FF', 'u13200', 'u13201', 'u13202', 'u13203', 'u13204', 'u13205', 'u13206', 'u13207', 'u13208', 'u13209', 'u1320A', 'u1320B', 'u1320C', 'u1320D', 'u1320E', 'u1320F', 'u13210', 'u13211', 'u13212', 'u13213', 'u13214', 'u13215', 'u13216', 'u13217', 'u13218', 'u13219', 'u1321A', 'u1321B', 'u1321C', 'u1321D', 'u1321E', 'u1321F', 'u13220', 'u13221', 'u13222', 'u13223', 'u13224', 'u13225', 'u13226', 'u13227', 'u13228', 'u13229', 'u1322A', 'u1322B', 'u1322C', 'u1322D', 'u1322E', 'u1322F', 'u13230', 'u13231', 'u13232', 'u13233', 'u13234', 'u13235', 'u13236', 'u13237', 'u13238', 'u13239', 'u1323A', 'u1323B', 'u1323C', 'u1323D', 'u1323E', 'u1323F', 'u13240', 'u13241', 'u13242', 'u13243', 'u13244', 'u13245', 'u13246', 'u13247', 'u13248', 'u13249', 'u1324A', 'u1324B', 'u1324C', 'u1324D', 'u1324E', 'u1324F', 'u13250', 'u13251', 'u13252', 'u13253', 'u13254', 'u13255', 'u13256', 'u13257', 'u13258', 'u13259', 'u1325A', 'u1325B', 'u1325C', 'u1325D', 'u1325E', 'u1325F', 'u13260', 'u13261', 'u13262', 'u13263', 'u13264', 'u13265', 'u13266', 'u13267', 'u13268', 'u13269', 'u1326A', 'u1326B', 'u1326C', 'u1326D', 'u1326E', 'u1326F', 'u13270', 'u13271', 'u13272', 'u13273', 'u13274', 'u13275', 'u13276', 'u13277', 'u13278', 'u13279', 'u1327A', 'u1327B', 'u1327C', 'u1327D', 'u1327E', 'u1327F', 'u13280', 'u13281', 'u13282', 'u13283', 'u13284', 'u13285', 'u13286', 'u13287', 'u13288', 'u13289', 'u1328A', 'u1328B', 'u1328C', 'u1328D', 'u1328E', 'u1328F', 'u13290', 'u13291', 'u13292', 'u13293', 'u13294', 'u13295', 'u13296', 'u13297', 'u13298', 'u13299', 'u1329A', 'u1329B', 'u1329C', 'u1329D', 'u1329E', 'u1329F', 'u132A0', 'u132A1', 'u132A2', 'u132A3', 'u132A4', 'u132A5', 'u132A6', 'u132A7', 'u132A8', 'u132A9', 'u132AA', 'u132AB', 'u132AC', 'u132AD', 'u132AE', 'u132AF', 'u132B0', 'u132B1', 'u132B2', 'u132B3', 'u132B4', 'u132B5', 'u132B6', 'u132B7', 'u132B8', 'u132B9', 'u132BA', 'u132BB', 'u132BC', 'u132BD', 'u132BE', 'u132BF', 'u132C0', 'u132C1', 'u132C2', 'u132C3', 'u132C4', 'u132C5', 'u132C6', 'u132C7', 'u132C8', 'u132C9', 'u132CA', 'u132CB', 'u132CC', 'u132CD', 'u132CE', 'u132CF', 'u132D0', 'u132D1', 'u132D2', 'u132D3', 'u132D4', 'u132D5', 'u132D6', 'u132D7', 'u132D8', 'u132D9', 'u132DA', 'u132DB', 'u132DC', 'u132DD', 'u132DE', 'u132DF', 'u132E0', 'u132E1', 'u132E2', 'u132E3', 'u132E4', 'u132E5', 'u132E6', 'u132E7', 'u132E8', 'u132E9', 'u132EA', 'u132EB', 'u132EC', 'u132ED', 'u132EE', 'u132EF', 'u132F0', 'u132F1', 'u132F2', 'u132F3', 'u132F4', 'u132F5', 'u132F6', 'u132F7', 'u132F8', 'u132F9', 'u132FA', 'u132FB', 'u132FC', 'u132FD', 'u132FE', 'u132FF', 'u13300', 'u13301', 'u13302', 'u13303', 'u13304', 'u13305', 'u13306', 'u13307', 'u13308', 'u13309', 'u1330A', 'u1330B', 'u1330C', 'u1330D', 'u1330E', 'u1330F', 'u13310', 'u13311', 'u13312', 'u13313', 'u13314', 'u13315', 'u13316', 'u13317', 'u13318', 'u13319', 'u1331A', 'u1331B', 'u1331C', 'u1331D', 'u1331E', 'u1331F', 'u13320', 'u13321', 'u13322', 'u13323', 'u13324', 'u13325', 'u13326', 'u13327', 'u13328', 'u13329', 'u1332A', 'u1332B', 'u1332C', 'u1332D', 'u1332E', 'u1332F', 'u13330', 'u13331', 'u13332', 'u13333', 'u13334', 'u13335', 'u13336', 'u13337', 'u13338', 'u13339', 'u1333A', 'u1333B', 'u1333C', 'u1333D', 'u1333E', 'u1333F', 'u13340', 'u13341', 'u13342', 'u13343', 'u13344', 'u13345', 'u13346', 'u13347', 'u13348', 'u13349', 'u1334A', 'u1334B', 'u1334C', 'u1334D', 'u1334E', 'u1334F', 'u13350', 'u13351', 'u13352', 'u13353', 'u13354', 'u13355', 'u13356', 'u13357', 'u13358', 'u13359', 'u1335A', 'u1335B', 'u1335C', 'u1335D', 'u1335E', 'u1335F', 'u13360', 'u13361', 'u13362', 'u13363', 'u13364', 'u13365', 'u13366', 'u13367', 'u13368', 'u13369', 'u1336A', 'u1336B', 'u1336C', 'u1336D', 'u1336E', 'u1336F', 'u13370', 'u13371', 'u13372', 'u13373', 'u13374', 'u13375', 'u13376', 'u13377', 'u13378', 'u13379', 'u1337A', 'u1337B', 'u1337C', 'u1337D', 'u1337E', 'u1337F', 'u13380', 'u13381', 'u13382', 'u13383', 'u13384', 'u13385', 'u13386', 'u13387', 'u13388', 'u13389', 'u1338A', 'u1338B', 'u1338C', 'u1338D', 'u1338E', 'u1338F', 'u13390', 'u13391', 'u13392', 'u13393', 'u13394', 'u13395', 'u13396', 'u13397', 'u13398', 'u13399', 'u1339A', 'u1339B', 'u1339C', 'u1339D', 'u1339E', 'u1339F', 'u133A0', 'u133A1', 'u133A2', 'u133A3', 'u133A4', 'u133A5', 'u133A6', 'u133A7', 'u133A8', 'u133A9', 'u133AA', 'u133AB', 'u133AC', 'u133AD', 'u133AE', 'u133AF', 'u133B0', 'u133B1', 'u133B2', 'u133B3', 'u133B4', 'u133B5', 'u133B6', 'u133B7', 'u133B8', 'u133B9', 'u133BA', 'u133BB', 'u133BC', 'u133BD', 'u133BE', 'u133BF', 'u133C0', 'u133C1', 'u133C2', 'u133C3', 'u133C4', 'u133C5', 'u133C6', 'u133C7', 'u133C8', 'u133C9', 'u133CA', 'u133CB', 'u133CC', 'u133CD', 'u133CE', 'u133CF', 'u133D0', 'u133D1', 'u133D2', 'u133D3', 'u133D4', 'u133D5', 'u133D6', 'u133D7', 'u133D8', 'u133D9', 'u133DA', 'u133DB', 'u133DC', 'u133DD', 'u133DE', 'u133DF', 'u133E0', 'u133E1', 'u133E2', 'u133E3', 'u133E4', 'u133E5', 'u133E6', 'u133E7', 'u133E8', 'u133E9', 'u133EA', 'u133EB', 'u133EC', 'u133ED', 'u133EE', 'u133EF', 'u133F0', 'u133F1', 'u133F2', 'u133F3', 'u133F4', 'u133F5', 'u133F6', 'u133F7', 'u133F8', 'u133F9', 'u133FA', 'u133FB', 'u133FC', 'u133FD', 'u133FE', 'u133FF', 'u13400', 'u13401', 'u13402', 'u13403', 'u13404', 'u13405', 'u13406', 'u13407', 'u13408', 'u13409', 'u1340A', 'u1340B', 'u1340C', 'u1340D', 'u1340E', 'u1340F', 'u13410', 'u13411', 'u13412', 'u13413', 'u13414', 'u13415', 'u13416', 'u13417', 'u13418', 'u13419', 'u1341A', 'u1341B', 'u1341C', 'u1341D', 'u1341E', 'u1341F', 'u13420', 'u13421', 'u13422', 'u13423', 'u13424', 'u13425', 'u13426', 'u13427', 'u13428', 'u13429', 'u1342A', 'u1342B', 'u1342C', 'u1342D', 'u1342E', 'u13430', 'u13431', 'u13432', 'u13433', 'u13434', 'u13435', 'u13436', 'u13437', 'u13438', 'uF0983', 'uF0984', 'uF0985', 'uF0986', 'uF0987', 'uF0988', 'uF0989', 'uF098A', 'uF098B', 'uF098C', 'uF098D', 'uF098E', 'uF098F', 'uF0990', 'uF0991', 'uF0992', 'uF0994', 'uF0995', 'uF0996', 'uF3430', 'uF3431', 'uF3432', 'uF3433', 'uF3434', 'uF3435', 'uF3436', 'uF3437', 'uF3438', 'uF3440', 'uF3441', 'uF3442', 'uF3443', 'uF3444', 'uF3445', 'uF3446', 'uF3447', 'uF3448', 'uF3449', 'uF344A', 'uF344B', 'uF344C', 'uF344D', 'uF344E', 'uF344F', 'uF3450', 'uF3451', 'uF3452', 'uF3453', 'uF3454', 'uF3455', 'uF3456', 'uF3457', 'uF3458', 'uF3459', 'uF345A', 'uF345B', 'uF345C', 'uF345D', 'uF345E', 'uF345F', 'uF3460', 'uF3461', 'uF3462', 'uF3463', 'uF3464', 'uF3465', 'uF3466', 'uF3467', 'uF3468', 'uF3469', 'uF346A', 'uF346B', 'uF346C', 'uF346D', 'uF346E', 'uF346F', 'uF3470', 'uF3471', 'uF3472', 'uF3473', 'uF3474', 'uF3475', 'uF3476', 'uF3477', 'uF3478', 'uF3479', 'uF347A', 'uF347B', 'uF347C', 'uF347D', 'uF347E', 'uF347F', 'uF3480', 'uF3481', 'uF3482', 'uF3483', 'uF3484', 'uF3485', 'uF3486', 'uF3487', 'uF3488', 'uF3489', 'uF348A', 'uF348B', 'uF348C', 'uF348D', 'uF348E', 'uF348F', 'uF3490', 'uF3491', 'uF3492', 'uF3493', 'uF3494', 'uF3495', 'uF3496', 'uF3497', 'uF3498', 'uF3499', 'uF349A', 'uF349B', 'uF349C', 'uF349D', 'uF349E', 'uF349F', 'uF34A0', 'uF34A1', 'uF34A2', 'uF34A3', 'uF34A4', 'uF34A5', 'uF34A6', 'uF34A7', 'uF34A8', 'uF34A9', 'uF34AA', 'uF34AB', 'uF34AC', 'uF34AD', 'uF34AE', 'uF34AF', 'uF34B0', 'uF34B1', 'uF34B2', 'uF34B3', 'uF34B4', 'uF34B5', 'uF34B6', 'uF34B7', 'uF34B8', 'uF34B9', 'uF34BA', 'uF34BB', 'uF34BC', 'uF34BD', 'uF34BE', 'uF34BF', 'uF34C0', 'uF34C1', 'uF34C2', 'uF34C3', 'uF34C4', 'uF34C5', 'uF34C6', 'uF34C7', 'uF34C8', 'uF34C9', 'uF34CA', 'uF34CB', 'uF34CC', 'uF34CD', 'uF34CE', 'uF34CF', 'uF34D0', 'uF34D1', 'uF34D2', 'uF34D3', 'uF34D4', 'uF34D5', 'uF34D6', 'uF34D7', 'uF34D8', 'uF34D9', 'uF34DA', 'uF34DB', 'uF34DC', 'uF34DD', 'uF34DE', 'uF34DF', 'uF34E0', 'uF34E1', 'uF34E2', 'uF34E3', 'uF34E4', 'uF34E5', 'uF34E6', 'uF34E7', 'uF34E8', 'uF34E9', 'uF34EA', 'uF34EB', 'uF34EC', 'uF34ED', 'uF34EE', 'uF34EF', 'uF34F0', 'uF34F1', 'uF34F2', 'uF34F3', 'uF34F4', 'uF34F5', 'uF34F6', 'uF34F7', 'uF34F8', 'uF34F9', 'uF34FA', 'uF34FB', 'uF34FC', 'uF34FD', 'uF34FE', 'uF34FF', 'uF3500', 'uF3501', 'uF3502', 'uF3503', 'uF3504', 'uF3505', 'uF3506', 'uF3507', 'uF3508', 'uF3509', 'uF350A', 'uF350B', 'uF350C', 'uF350D', 'uF350E', 'uF350F', 'uF3510', 'uF3511', 'uF3512', 'uF3513', 'uF3514', 'uF3515', 'uF3516', 'uF3517', 'uF3518', 'uF3519', 'uF351A', 'uF351B', 'uF351C', 'uF351D', 'uF351E', 'uF351F', 'uF3520', 'uF3521', 'uF3522', 'uF3523', 'uF3524', 'uF3525', 'uF3526', 'uF3527', 'uF3528', 'uF3529', 'uF352A', 'uF352B', 'uF352C', 'uF352D', 'uF352E', 'uF352F', 'uF3530', 'uF3531', 'uF3532', 'uF3533', 'uF3534', 'uF3535', 'uF3536', 'uF3537', 'uF3538', 'uF3539', 'uF353A', 'uF353B', 'uF353C', 'uF353D', 'uF353E', 'uF353F', 'uF3540', 'uF3541', 'uF3542', 'uF3543', 'uF3544', 'uF3545', 'uF3546', 'uF3547', 'uF3548', 'uF3549', 'uF354A', 'uF354B', 'uF354C', 'uF354D', 'uF354E', 'uF354F', 'uF3550', 'uF3551', 'uF3552', 'uF3553', 'uF3554', 'uF3555', 'uF3556', 'uF3557', 'uF3558', 'uF3559', 'uF355A', 'uF355B', 'uF355C', 'uF355D', 'uF355E', 'uF355F', 'uF3560', 'uF3561', 'uF3562', 'uF3563', 'uF3564', 'uF3565', 'uF3566', 'uF3567', 'uF3568', 'uF3569', 'uF356A', 'uF356B', 'uF356C', 'uF356D', 'uF356E', 'uF356F', 'uF3570', 'uF3571', 'uF3572', 'uF3573', 'uF3574', 'uF3575', 'uF3576', 'uF3577', 'uF3578', 'uF3579', 'uF357A', 'uF357B', 'uF357C', 'uF357D', 'uF357E', 'uF357F', 'uF3580', 'uF3581', 'uF3582', 'uF3583', 'uF3584', 'uF3585', 'uF3586', 'uF3587', 'uF3588', 'uF3589', 'uF358A', 'uF358B', 'uF358C', 'uF358D', 'uF358E', 'uF358F', 'uF3590', 'uF3591', 'uF3592', 'uF3593', 'uF3594', 'uF3595', 'uF3596', 'uF3597', 'uF3598', 'uF3599', 'uF359A', 'uF359B', 'uF359C', 'uF359D', 'uF359E', 'uF359F', 'uF35A0', 'uF35A1', 'uF35A2', 'uF35A3', 'uF35A4', 'uF35A5', 'uF35A6', 'uF35A7', 'uF35A8', 'uF35A9', 'uF35AA', 'uF35AB', 'uF35AC', 'uF35AD', 'uF35AE', 'uF35AF', 'uF35B0', 'uF35B1', 'uF35B2', 'uF35B3', 'uF35B4', 'uF35B5', 'uF35B6', 'uF35B7', 'uF35B8', 'uF35B9', 'uF35BA', 'uF35BB', 'uF35BC', 'uF35BD', 'uF35BE', 'uF35BF', 'uF35C0', 'uF35C1', 'uF35C2', 'uF35C3', 'uF35C4', 'uF35C5', 'uF35C6', 'uF35C7', 'uF35C8', 'uF35C9', 'uF35CA', 'uF35CB', 'uF35CC', 'uF35CD', 'uF35CE', 'uF35CF', 'uF35D0', 'uF35D1', 'uF35D2', 'uF35D3', 'uF35D4', 'uF35D5', 'uF35D6', 'uF35D7', 'uF35D8', 'uF35D9', 'uF35DA', 'uF35DB', 'uF35DC', 'uF35DD', 'uF35DE', 'uF35DF', 'uF35E0', 'uF35E1', 'uF35E2', 'uF35E3', 'uF35E4', 'uF35E5', 'uF35E6', 'uF35E7', 'uF35E8', 'uF35E9', 'uF35EA', 'uF35EB', 'uF35EC', 'uF35ED', 'uF35EE', 'uF35EF', 'uF35F0', 'uF35F1', 'uF35F2', 'uF35F3', 'uF35F4', 'uF35F5', 'uF35F6', 'uF35F7', 'uF35F8', 'uF35F9', 'uF35FA', 'uF35FB', 'uF35FC', 'uF35FD', 'uF35FE', 'uF35FF', 'uF3600', 'uF3601', 'uF3602', 'uF3603', 'uF3604', 'uF3605', 'uF3606', 'uF3607', 'uF3608', 'uF3609', 'uF360A', 'uF360B', 'uF360C', 'uF360D', 'uF360E', 'uF360F', 'uF3610', 'uF3611', 'uF3612', 'uF3613', 'uF3614', 'uF3615', 'uF3616', 'uF3617', 'uF3618', 'uF3619', 'uF361A', 'uF361B', 'uF361C', 'uF361D', 'uF361E', 'uF361F', 'uF3620', 'uF3621', 'uF3622', 'uF3623', 'uF3624', 'uF3625', 'uF3626', 'uF3627', 'uF3628', 'uF3629', 'uF362A', 'uF362B', 'uF362C', 'uF362D', 'uF362E', 'uF362F', 'uF3630', 'uF3631', 'uF3632', 'uF3633', 'uF3634', 'uF3635', 'uF3636', 'uF3637', 'uF3638', 'uF3639', 'uF363A', 'uF363B', 'uF363C', 'uF363D', 'uF363E', 'uF363F', 'uF3640', 'uF3641', 'uF3642', 'uF3643', 'uF3644', 'uF3645', 'uF3646', 'uF3647', 'uF3648', 'uF3649', 'uF364A', 'uF364B', 'uF364C', 'uF364D', 'uF364E', 'uF364F', 'uF3650', 'uF3651', 'uF3652', 'uF3653', 'uF3654', 'uF3655', 'uF3656', 'uF3657', 'uF3658', 'uF3659', 'uF365A', 'uF365B', 'uF365C', 'uF365D', 'uF365E', 'uF365F', 'uF3660', 'uF3661', 'uF3662', 'uF3663', 'uF3664', 'uF3665', 'uF3666', 'uF3667', 'uF3668', 'uF3669', 'uF366A', 'uF366B', 'uF366C', 'uF366D', 'uF366E', 'uF366F', 'uF3670', 'uF3671', 'uF3672', 'uF3673', 'uF3674', 'uF3675', 'uF3676', 'uF3677', 'uF3678', 'uF3679', 'uF367A', 'uF367B', 'uF367C', 'uF367D', 'uF367E', 'uF367F', 'uF3680', 'uF3681', 'uF3682', 'uF3683', 'uF3684', 'uF3685', 'uF3686', 'uF3687', 'uF3688', 'uF3689', 'uF368A', 'uF368B', 'uF368C', 'uF368D', 'uF368E', 'uF368F', 'uF3690', 'uF3691', 'uF3692', 'uF3693', 'uF3694', 'uF3695', 'uF3696', 'uF3697', 'uF3698', 'uF3699', 'uF369A', 'uF369B', 'uF369C', 'uF369D', 'uF369E', 'uF369F', 'uF36A0', 'uF36A1', 'uF36A2', 'uF36A3', 'uF36A4', 'uF36A5', 'uF36A6', 'uF36A7', 'uF36A8', 'uF36A9', 'uF36AA', 'uF36AB', 'uF36AC', 'uF36AD', 'uF36AE', 'uF36AF', 'uF36B0', 'uF36B1', 'uF36B2', 'uF36B3', 'uF36B4', 'uF36B5', 'uF36B6', 'uF36B7', 'uF36B8', 'uF36B9', 'uF36BA', 'uF36BB', 'uF36BC', 'uF36BD', 'uF36BE', 'uF36BF', 'uF36C0', 'uF36C1', 'uF36C2', 'uF36C3', 'uF36C4', 'uF36C5', 'uF36C6', 'uF36C7', 'uF36C8', 'uF36C9', 'uF36CA', 'uF36CB', 'uF36CC', 'uF36CD', 'uF36CE', 'uF36CF', 'uF36D0', 'uF36D1', 'uF36D2', 'uF36D3', 'uF36D4', 'uF36D5', 'uF36D6', 'uF36D7', 'uF36D8', 'uF36D9', 'uF36DA', 'uF36DB', 'uF36DC', 'uF36DD', 'uF36DE', 'uF36DF', 'uF36E0', 'uF36E1', 'uF36E2', 'uF36E3', 'uF36E4', 'uF36E5', 'uF36E6', 'uF36E7', 'uF36E8', 'uF36E9', 'uF36EA', 'uF36EB', 'uF36EC', 'uF36ED', 'uF36EE', 'uF36EF', 'uF36F0', 'uF36F1', 'uF36F2', 'uF36F3', 'uF36F4', 'uF36F5', 'uF36F6', 'uF36F7', 'uF36F8', 'uF36F9', 'uF36FA', 'uF36FB', 'uF36FC', 'uF36FD', 'uF36FE', 'uF36FF', 'uF3700', 'uF3701', 'uF3702', 'uF3703', 'uF3704', 'uF3705', 'uF3706', 'uF3707', 'uF3708', 'uF3709', 'uF370A', 'uF370B', 'uF370C', 'uF370D', 'uF370E', 'uF370F', 'uF3710', 'uF3711', 'uF3712', 'uF3713', 'uF3714', 'uF3715', 'uF3716', 'uF3717', 'uF3718', 'uF3719', 'uF371A', 'uF371B', 'uF371C', 'uF371D', 'uF371E', 'uF371F', 'uF3720', 'uF3721', 'uF3722', 'uF3723', 'uF3724', 'uF3725', 'uF3726', 'uF3727', 'uF3728', 'uF3729', 'uF372A', 'uF372B', 'uF372C', 'uF372D', 'uF372E', 'uF372F', 'uF3730', 'uF3731', 'uF3732', 'uF3733', 'uF3734', 'uF3735', 'uF3736', 'uF3737', 'uF3738', 'uF3739', 'uF373A', 'uF373B', 'uF373C', 'uF373D', 'uF373E', 'uF373F', 'uF3740', 'uF3741', 'uF3742', 'uF3743', 'uF3744', 'uF3745', 'uF3746', 'uF3747', 'uF3748', 'uF3749', 'uF374A', 'uF374B', 'uF374C', 'uF374D', 'uF374E', 'uF374F', 'uF3750', 'uF3751', 'uF3752', 'uF3753', 'uF3754', 'uF3755', 'uF3756', 'uF3757', 'uF3758', 'uF3759', 'uF375A', 'uF375B', 'uF375C', 'uF375D', 'uF375E', 'uF375F', 'uF3760', 'uF3761', 'uF3762', 'uF3763', 'uF3764', 'uF3765', 'uF3766', 'uF3767', 'uF3768', 'uF3769', 'uF376A', 'uF376B', 'uF376C', 'uF376D', 'uF376E', 'uF376F', 'uF3770', 'uF3771', 'uF3772', 'uF3773', 'uF3774', 'uF3775', 'uF3776', 'uF3777', 'uF3778', 'uF3779', 'uF377A', 'uF377B', 'uF377C', 'uF377D', 'uF377E', 'uF377F', 'uF3780', 'uF3781', 'uF3782', 'uF3783', 'uF3784', 'uF3785', 'uF3786', 'uF3787', 'uF3788', 'uF3789', 'uF378A', 'uF378B', 'uF378C', 'uF378D', 'uF378E', 'uF378F', 'uF3790', 'uF3791', 'uF3792', 'uF3793', 'uF3794', 'uF3795', 'uF3796', 'uF3797', 'uF3798', 'uF3799', 'uF379A', 'uF379B', 'uF379C', 'uF379D', 'uF379E', 'uF379F', 'uF37A0', 'uF37A1', 'uF37A2', 'uF37A3', 'uF37A4', 'uF37A5', 'uF37A6', 'uF37A7', 'uF37A8', 'uF37A9', 'uF37AA', 'uF37AB', 'uF37AC', 'uF37AD', 'uF37AE', 'uF37AF', 'uF37B0', 'uF37B1', 'uF37B2', 'uF37B3', 'uF37B4', 'uF37B5', 'uF37B6', 'uF37B7', 'uF37B8', 'uF37B9', 'uF37BA', 'uF37BB', 'uF37BC', 'uF37BD', 'uF37BE', 'uF37BF', 'uF37C0', 'uF37C1', 'uF37C2', 'uF37C3', 'uF37C4', 'uF37C5', 'uF37C6', 'uF37C7', 'uF37C8', 'uF37C9', 'uF37CA', 'uF37CB', 'uF37CC', 'uF37CD', 'uF37CE', 'uF37CF', 'uF37D0', 'uF37D1', 'uF37D2', 'uF37D3', 'uF37D4', 'uF37D5', 'uF37D6', 'uF37D7', 'uF37D8', 'uF37D9', 'uF37DA', 'uF37DB', 'uF37DC', 'uF37DD', 'uF37DE', 'uF37DF', 'uF37E0', 'uF37E1', 'uF37E2', 'uF37E3', 'uF37E4', 'uF37E5', 'uF37E6', 'uF37E7', 'uF37E8', 'uF37E9', 'uF37EA', 'uF37EB', 'uF37EC', 'uF37ED', 'uF37EE', 'uF37EF', 'uF37F0', 'uF37F1', 'uF37F2', 'uF37F3', 'uF37F4', 'uF37F5', 'uF37F6', 'uF37F7', 'uF37F8', 'uF37F9', 'uF37FA', 'uF37FB', 'uF37FC', 'uF37FD', 'uF37FE', 'uF37FF', 'uF3800', 'uF3801', 'uF3802', 'uF3803', 'uF3804', 'uF3805', 'uF3806', 'uF3807', 'uF3808', 'uF3809', 'uF380A', 'uF380B', 'uF380C', 'uF380D', 'uF380E', 'uF380F', 'uF3810', 'uF3811', 'uF3812', 'uF3813', 'uF3814', 'uF3815', 'uF3816', 'uF3817', 'uF3818', 'uF3819', 'uF381A', 'uF381B', 'uF381C', 'uF381D', 'uF381E', 'uF381F', 'uF3820', 'uF3821', 'uF3822', 'uF3823', 'uF3824', 'uF3825', 'uF3826', 'uF3827', 'uF3828', 'uF3829', 'uF382A', 'uF382B', 'uF382C', 'uF382D', 'uF382E', 'uF382F', 'uF3830', 'uF3831', 'uF3832', 'uF3833', 'uF3834', 'uF3835', 'uF3836', 'uF3837', 'uF3838', 'uF3839', 'uF383A', 'uF383B', 'uF383C', 'uF383D', 'uF383E', 'uF383F', 'uF3840', 'uF3841', 'uF3842', 'uF3843', 'uF3844', 'uF3845', 'uF3846', 'uF3847', 'uF3848', 'uF3849', 'uF384A', 'uF384B', 'uF384C', 'uF384D', 'uF384E', 'uF384F', 'uF3850', 'uF3851', 'uF3852', 'uF3853', 'uF3854', 'uF3855', 'uF3856', 'uF3857', 'uF3858', 'uF3859', 'uF385A', 'uF385B', 'uF385C', 'uF385D', 'uF385E', 'uF385F', 'uF3860', 'uF3861', 'uF3862', 'uF3863', 'uF3864', 'uF3865', 'uF3866', 'uF3867', 'uF3868', 'uF3869', 'uF386A', 'uF386B', 'uF386C', 'uF386D', 'uF386E', 'uF386F', 'uF3870', 'uF3871', 'uF3872', 'uF3873', 'uF3874', 'uF3875', 'uF3876', 'uF3877', 'uF3878', 'uF3879', 'uF387A', 'uF387B', 'uF387C', 'uF387D', 'uF387E', 'uF387F', 'uF3880', 'uF3881', 'uF3882', 'uF3883', 'uF3884', 'uF3885', 'uF3886', 'uF3887', 'uF3888', 'uF3889', 'uF388A', 'uF388B', 'uF388C', 'uF388D', 'uF388E', 'uF388F', 'uF3890', 'uF3891', 'uF3892', 'uF3893', 'uF3894', 'uF3895', 'uF3896', 'uF3897', 'uF3898', 'uF3899', 'uF389A', 'uF389B', 'uF389C', 'uF389D', 'uF389E', 'uF389F', 'uF38A0', 'uF38A1', 'uF38A2', 'uF38A3', 'uF38A4', 'uF38A5', 'uF38A6', 'uF38A7', 'uF38A8', 'uF38A9', 'uF38AA', 'uF38AB', 'uF38AC', 'uF38AD', 'uF38AE', 'uF38AF', 'uF38B0', 'uF38B1', 'uF38B2', 'uF38B3', 'uF38B4', 'uF38B5', 'uF38B6', 'uF38B7', 'uF38B8', 'uF38B9', 'uF38BA', 'uF38BB', 'uF38BC', 'uF38BD', 'uF38BE', 'uF38BF', 'uF38C0', 'uF38C1', 'uF38C2', 'uF38C3', 'uF38C4', 'uF38C5', 'uF38C6', 'uF38C7', 'uF38C8', 'uF38C9', 'uF38CA', 'uF38CB', 'uF38CC', 'uF38CD', 'uF38CE', 'uF38CF', 'uF38D0', 'uF38D1', 'uF38D2', 'uF38D3', 'uF38D4', 'uF38D5', 'uF38D6', 'uF38D7', 'uF38D8', 'uF38D9', 'uF38DA', 'uF38DB', 'uF38DC', 'uF38DD', 'uF38DE', 'uF38DF', 'uF38E0', 'uF38E1', 'uF38E2', 'uF38E3', 'uF38E4', 'uF38E5', 'uF38E6', 'uF38E7', 'uF38E8', 'uF38E9', 'uF38EA', 'uF38EB', 'uF38EC', 'uF38ED', 'uF38EE', 'uF38EF', 'uF38F0', 'uF38F1', 'uF38F2', 'uF38F3', 'uF38F4', 'uF38F5', 'uF38F6', 'uF38F7', 'uF38F8', 'uF38F9', 'uF38FA', 'uF38FB', 'uF38FC', 'uF38FD', 'uF38FE', 'uF38FF', 'uF3900', 'uF3901', 'uF3902', 'uF3903', 'uF3904', 'uF3905', 'uF3906', 'uF3907', 'uF3908', 'uF3909', 'uF390A', 'uF390B', 'uF390C', 'uF390D', 'uF390E', 'uF390F', 'uF3910', 'uF3911', 'uF3912', 'uF3913', 'uF3914', 'uF3915', 'uF3916', 'uF3917', 'uF3918', 'uF3919', 'uF391A', 'uF391B', 'uF391C', 'uF391D', 'uF391E', 'uF391F', 'uF3920', 'uF3921', 'uF3922', 'uF3923', 'uF3924', 'uF3925', 'uF3926', 'uF3927', 'uF3928', 'uF3929', 'uF392A', 'uF392B', 'uF392C', 'uF392D', 'uF392E', 'uF392F', 'uF3930', 'uF3931', 'uF3932', 'uF3933', 'uF3934', 'uF3935', 'uF3936', 'uF3937', 'uF3938', 'uF3939', 'uF393A', 'uF393B', 'uF393C', 'uF393D', 'uF393E', 'uF393F', 'uF3940', 'uF3941', 'uF3942', 'uF3943', 'uF3944', 'uF3945', 'uF3946', 'uF3947', 'uF3948', 'uF3949', 'uF394A', 'uF394B', 'uF394C', 'uF394D', 'uF394E', 'uF394F', 'uF3950', 'uF3951', 'uF3952', 'uF3953', 'uF3954', 'uF3955', 'uF3956', 'uF3957', 'uF3958', 'uF3959', 'uF395A', 'uF395B', 'uF395C', 'uF395D', 'uF395E', 'uF395F', 'uF3960', 'uF3961', 'uF3962', 'uF3963', 'uF3964', 'uF3965', 'uF3966', 'uF3967', 'uF3968', 'uF3969', 'uF396A', 'uF396B', 'uF396C', 'uF396D', 'uF396E', 'uF396F', 'uF3970', 'uF3971', 'uF3972', 'uF3973', 'uF3974', 'uF3975', 'uF3976', 'uF3977', 'uF3978', 'uF3979', 'uF397A', 'uF397B', 'uF397C', 'uF397D', 'uF397E', 'uF397F', 'uF3980', 'uF3981', 'uF3982', 'uF3983', 'uF3984', 'uF3985', 'uF3986', 'uF3987', 'uF3988', 'uF3989', 'uF398A', 'uF398B', 'uF398C', 'uF398D', 'uF398E', 'uF398F', 'uF3990', 'uF3991', 'uF3992', 'uF3993', 'uF3994', 'uF3995', 'uF3996', 'uF3997', 'uF3998', 'uF3999', 'uF399A', 'uF399B', 'uF399C', 'uF399D', 'uF399E', 'uF399F', 'uF39A0', 'uF39A1', 'uF39A2', 'uF39A3', 'uF39A4', 'uF39A5', 'uF39A6', 'uF39A7', 'uF39A8', 'uF39A9', 'uF39AA', 'uF39AB', 'uF39AC', 'uF39AD', 'uF39AE', 'uF39AF', 'uF39B0', 'uF39B1', 'uF39B2', 'uF39B3', 'uF39B4', 'uF39B5', 'uF39B6', 'uF39B7', 'uF39B8', 'uF39B9', 'uF39BA', 'uF39BB', 'uF39BC', 'uF39BD', 'uF39BE', 'uF39BF', 'uF39C0', 'uF39C1', 'uF39C2', 'uF39C3', 'uF39C4', 'uF39C5', 'uF39C6', 'uF39C7', 'uF39C8', 'uF39C9', 'uF39CA', 'uF39CB', 'uF39CC', 'uF39CD', 'uF39CE', 'uF39CF', 'uF39D0', 'uF39D1', 'uF39D2', 'uF39D3', 'uF39D4', 'uF39D5', 'uF39D6', 'uF39D7', 'uF39D8', 'uF39D9', 'uF39DA', 'uF39DB', 'uF39DC', 'uF39DD', 'uF39DE', 'uF39DF', 'uF39E0', 'uF39E1', 'uF39E2', 'uF39E3', 'uF39E4', 'uF39E5', 'uF39E6', 'uF39E7', 'uF39E8', 'uF39E9', 'uF39EA', 'uF39EB', 'uF39EC', 'uF39ED', 'uF39EE', 'uF39EF', 'uF39F0', 'uF39F1', 'uF39F2', 'uF39F3', 'uF39F4', 'uF39F5', 'uF39F6', 'uF39F7', 'uF39F8', 'uF39F9', 'uF39FA', 'uF39FB', 'uF39FC', 'uF39FD', 'uF39FE', 'uF39FF', 'uF3A00', 'uF3A01', 'uF3A02', 'uF3A03', 'uF3A04', 'uF3A05', 'uF3A06', 'uF3A07', 'uF3A08', 'uF3A09', 'uF3A0A', 'uF3A0B', 'uF3A0C', 'uF3A0D', 'uF3A0E', 'uF3A0F', 'uF3A10', 'uF3A11', 'uF3A12', 'uF3A13', 'uF3A14', 'uF3A15', 'uF3A16', 'uF3A17', 'uF3A18', 'uF3A19', 'uF3A1A', 'uF3A1B', 'uF3A1C', 'uF3A1D', 'uF3A1E', 'uF3A1F', 'uF3A20', 'uF3A21', 'uF3A22', 'uF3A23', 'uF3A24', 'uF3A25', 'uF3A26', 'uF3A27', 'uF3A28', 'uF3A29', 'uF3A2A', 'uF3A2B', 'uF3A2C', 'uF3A2D', 'uF3A2E', 'uF3A2F', 'uF3A30', 'uF3A31', 'uF3A32', 'uF3A33', 'uF3A34', 'uF3A35', 'uF3A36', 'uF3A37', 'uF3A38', 'uF3A39', 'uF3A3A', 'uF3A3B', 'uF3A3C', 'uF3A3D', 'uF3A3E', 'uF3A3F', 'uF3A40', 'uF3A41', 'uF3A42', 'uF3A43', 'uF3A44', 'uF3A45', 'uF3A46', 'uF3A47', 'uF3A48', 'uF3A49', 'uF3A4A', 'uF3A4B', 'uF3A4C', 'uF3A4D', 'uF3A4E', 'uF3A4F', 'uF3A50', 'uF3A51', 'uF3A52', 'uF3A53', 'uF3A54', 'uF3A55', 'uF3A56', 'uF3A57', 'uF3A58', 'uF3A59', 'uF3A5A', 'uF3A5B', 'uF3A5C', 'uF3A5D', 'uF3A5E', 'uF3A5F', 'uF3A60', 'uF3A61', 'uF3A62', 'uF3A63', 'uF3A64', 'uF3A65', 'uF3A66', 'uF3A67', 'uF3A68', 'uF3A69', 'uF3A6A', 'uF3A6B', 'uF3A6C', 'uF3A6D', 'uF3A6E', 'uF3A6F', 'uF3A70', 'uF3A71', 'uF3A72', 'uF3A73', 'uF3A74', 'uF3A75', 'uF3A76', 'uF3A77', 'uF3A78', 'uF3A79', 'uF3A7A', 'uF3A7B', 'uF3A7C', 'uF3A7D', 'uF3A7E', 'uF3A7F', 'uF3A80', 'uF3A81', 'uF3A82', 'uF3A83', 'uF3A84', 'uF3A85', 'uF3A86', 'uF3A87', 'uF3A88', 'uF3A89', 'uF3A8A', 'uF3A8B', 'uF3A8C', 'uF3A8D', 'uF3A8E', 'uF3A8F', 'uF3A90', 'uF3A91', 'uF3A92', 'uF3A93', 'uF3A94', 'uF3A95', 'uF3A96', 'uF3A97', 'uF3A98', 'uF3A99', 'uF3A9A', 'uF3A9B', 'uF3A9C', 'uF3A9D', 'uF3A9E', 'uF3A9F', 'uF3AA0', 'uF3AA1', 'uF3AA2', 'uF3AA3', 'uF3AA4', 'uF3AA5', 'uF3AA6', 'uF3AA7', 'uF3AA8', 'uF3AA9', 'uF3AAA', 'uF3AAB', 'uF3AAC', 'uF3AAD', 'uF3AAE', 'uF3AAF', 'uF3AB0', 'uF3AB1', 'uF3AB2', 'uF3AB3', 'uF3AB4', 'uF3AB5', 'uF3AB6', 'uF3AB7', 'uF3AB8', 'uF3AB9', 'uF3ABA', 'uF3ABB', 'uF3ABC', 'uF3ABD', 'uF3ABE', 'uF3ABF', 'uF3AC0', 'uF3AC1', 'uF3AC2', 'uF3AC3', 'uF3AC4', 'uF3AC5', 'uF3AC6', 'uF3AC7', 'uF3AC8', 'uF3AC9', 'uF3ACA', 'uF3ACB', 'uF3ACC', 'uF3ACD', 'uF3ACE', 'uF3ACF', 'uF3AD0', 'uF3AD1', 'uF3AD2', 'uF3AD3', 'uF3AD4', 'uF3AD5', 'uF3AD6', 'uF3AD7', 'uF3AD8', 'uF3AD9', 'uF3ADA', 'uF3ADB', 'uF3ADC', 'uF3ADD', 'uF3ADE', 'uF3ADF', 'uF3AE0', 'uF3AE1', 'uF3AE2', 'uF3AE3', 'uF3AE4', 'uF3AE5', 'uF3AE6', 'uF3AE7', 'uF3AE8', 'uF3AE9', 'uF3AEA', 'uF3AEB', 'uF3AEC', 'uF3AED', 'uF3AEE', 'uF3AEF', 'uF3AF0', 'uF3AF1', 'uF3AF2', 'uF3AF3', 'uF3AF4', 'uF3AF5', 'uF3AF6', 'uF3AF7', 'uF3AF8', 'uF3AF9', 'uF3AFA', 'uF3AFB', 'uF3AFC', 'uF3AFD', 'uF3AFE', 'uF3AFF', 'uF3B00', 'uF3B01', 'uF3B02', 'uF3B03', 'uF3B04', 'uF3B05', 'uF3B06', 'uF3B07', 'uF3B08', 'uF3B09', 'uF3B0A', 'uF3B0B', 'uF3B0C', 'uF3B0D', 'uF3B0E', 'uF3B0F', 'uF3B10', 'uF3B11', 'uF3B12', 'uF3B13', 'uF3B14', 'uF3B15', 'uF3B16', 'uF3B17', 'uF3B18', 'uF3B19', 'uF3B1A', 'uF3B1B', 'uF3B1C', 'uF3B1D', 'uF3B1E', 'uF3B1F', 'uF3B20', 'uF3B21', 'uF3B22', 'uF3B23', 'uF3B24', 'uF3B25', 'uF3B26', 'uF3B27', 'uF3B28', 'uF3B29', 'uF3B2A', 'uF3B2B', 'uF3B2C', 'uF3B2D', 'uF3B2E', 'uF3B2F', 'uF3B30', 'uF3B31', 'uF3B32', 'uF3B33', 'uF3B34', 'uF3B35', 'uF3B36', 'uF3B37', 'uF3B38', 'uF3B39', 'uF3B3A', 'uF3B3B', 'uF3B3C', 'uF3B3D', 'uF3B3E', 'uF3B3F', 'uF3B40', 'uF3B41', 'uF3B42', 'uF3B43', 'uF3B44', 'uF3B45', 'uF3B46', 'uF3B47', 'uF3B48', 'uF3B49', 'uF3B4A', 'uF3B4B', 'uF3B4C', 'uF3B4D', 'uF3B4E', 'uF3B4F', 'uF3B50', 'uF3B51', 'uF3B52', 'uF3B53', 'uF3B54', 'uF3B55', 'uF3B56', 'uF3B57', 'uF3B58', 'uF3B59', 'uF3B5A', 'uF3B5B', 'uF3B5C', 'uF3B5D', 'uF3B5E', 'uF3B5F', 'uF3B60', 'uF3B61', 'uF3B62', 'uF3B63', 'uF3B64', 'uF3B65', 'uF3B66', 'uF3B67', 'uF3B68', 'uF3B69', 'uF3B6A', 'uF3B6B', 'uF3B6C', 'uF3B6D', 'uF3B6E', 'uF3B6F', 'uF3B70', 'uF3B71', 'uF3B72', 'uF3B73', 'uF3B74', 'uF3B75', 'uF3B76', 'uF3B77', 'uF3B78', 'uF3B79', 'uF3B7A', 'uF3B7B', 'uF3B7C', 'uF3B7D', 'uF3B7E', 'uF3B7F', 'uF3B80', 'uF3B81', 'uF3B82', 'uF3B83', 'uF3B84', 'uF3B85', 'uF3B86', 'uF3B87', 'uF3B88', 'uF3B89', 'uF3B8A', 'uF3B8B', 'uF3B8C', 'uF3B8D', 'uF3B8E', 'uF3B8F', 'uF3B90', 'uF3B91', 'uF3B92', 'uF3B93', 'uF3B94', 'uF3B95', 'uF3B96', 'uF3B97', 'uF3B98', 'uF3B99', 'uF3B9A', 'uF3B9B', 'uF3B9C', 'uF3B9D', 'uF3B9E', 'uF3B9F', 'uF3BA0', 'uF3BA1', 'uF3BA2', 'uF3BA3', 'uF3BA4', 'uF3BA5', 'uF3BA6', 'uF3BA7', 'uF3BA8', 'uF3BA9', 'uF3BAA', 'uF3BAB', 'uF3BAC', 'uF3BAD', 'uF3BAE', 'uF3BAF', 'uF3BB0', 'uF3BB1', 'uF3BB2', 'uF3BB3', 'uF3BB4', 'uF3BB5', 'uF3BB6', 'uF3BB7', 'uF3BB8', 'uF3BB9', 'uF3BBA', 'uF3BBB', 'uF3BBC', 'uF3BBD', 'uF3BBE', 'uF3BBF', 'uF3BC0', 'uF3BC1', 'uF3BC2', 'uF3BC3', 'uF3BC4', 'uF3BC5', 'uF3BC6', 'uF3BC7', 'uF3BC8', 'uF3BC9', 'uF3BCA', 'uF3BCB', 'uF3BCC', 'uF3BCD', 'uF3BCE', 'uF3BCF', 'uF3BD0', 'uF3BD1', 'uF3BD2', 'uF3BD3', 'uF3BD4', 'uF3BD5', 'uF3BD6', 'uF3BD7', 'uF3BD8', 'uF3BD9', 'uF3BDA', 'uF3BDB', 'uF3BDC', 'uF3BDD', 'uF3BDE', 'uF3BDF', 'uF3BE0', 'uF3BE1', 'uF3BE2', 'uF3BE3', 'uF3BE4', 'uF3BE5', 'uF3BE6', 'uF3BE7', 'uF3BE8', 'uF3BE9', 'uF3BEA', 'uF3BEB', 'uF3BEC', 'uF3BED', 'uF3BEE', 'uF3BEF', 'uF3BF0', 'uF3BF1', 'uF3BF2', 'uF3BF3', 'uF3BF4', 'uF3BF5', 'uF3BF6', 'uF3BF7', 'uF3BF8', 'uF3BF9', 'uF3BFA', 'uF3BFB', 'uF3BFC', 'uF3BFD', 'uF3BFE', 'uF3BFF', 'uF3C00', 'uF3C01', 'uF3C02', 'uF3C03', 'uF3C04', 'uF3C05', 'uF3C06', 'uF3C07', 'uF3C08', 'uF3C09', 'uF3C0A', 'uF3C0B', 'uF3C0C', 'uF3C0D', 'uF3C0E', 'uF3C0F', 'uF3C10', 'uF3C11', 'uF3C12', 'uF3C13', 'uF3C14', 'uF3C15', 'uF3C16', 'uF3C17', 'uF3C18', 'uF3C19', 'uF3C1A', 'uF3C1B', 'uF3C1C', 'uF3C1D', 'uF3C1E', 'uF3C1F', 'uF3C20', 'uF3C21', 'uF3C22', 'uF3C23', 'uF3C24', 'uF3C25', 'uF3C26', 'uF3C27', 'uF3C28', 'uF3C29', 'uF3C2A', 'uF3C2B', 'uF3C2C', 'uF3C2D', 'uF3C2E', 'uF3C2F', 'uF3C30', 'uF3C31', 'uF3C32', 'uF3C33', 'uF3C34', 'uF3C35', 'uF3C36', 'uF3C37', 'uF3C38', 'uF3C39', 'uF3C3A', 'uF3C3B', 'uF3C3C', 'uF3C3D', 'uF3C3E', 'uF3C3F', 'uF3C40', 'uF3C41', 'uF3C42', 'uF3C43', 'uF3C44', 'uF3C45', 'uF3C46', 'uF3C47', 'uF3C48', 'uF3C49', 'uF3C4A', 'uF3C4B', 'uF3C4C', 'uF3C4D', 'uF3C4E', 'uF3C4F', 'uF3C50', 'uF3C51', 'uF3C52', 'uF3C53', 'uF3C54', 'uF3C55', 'uF3C56', 'uF3C57', 'uF3C58', 'uF3C59', 'uF3C5A', 'uF3C5B', 'uF3C5C', 'uF3C5D', 'uF3C5E', 'uF3C5F', 'uF3C60', 'uF3C61', 'uF3C62', 'uF3C63', 'uF3C64', 'uF3C65', 'uF3C66', 'uF3C67', 'uF3C68', 'uF3C69', 'uF3C6A', 'uF3C6B', 'uF3C6C', 'uF3C6D', 'uF3C6E', 'uF3C6F', 'uF3C70', 'uF3C71', 'uF3C72', 'uF3C73', 'uF3C74', 'uF3C75', 'uF3C76', 'uF3C77', 'uF3C78', 'uF3C79', 'uF3C7A', 'uF3C7B', 'uF3C7C', 'uF3C7D', 'uF3C7E', 'uF3C7F', 'uF3C80', 'uF3C81', 'uF3C82', 'uF3C83', 'uF3C84', 'uF3C85', 'uF3C86', 'uF3C87', 'uF3C88', 'uF3C89', 'uF3C8A', 'uF3C8B', 'uF3C8C', 'uF3C8D', 'uF3C8E', 'uF3C8F', 'uF3C90', 'uF3C91', 'uF3C92', 'uF3C93', 'uF3C94', 'uF3C95', 'uF3C96', 'uF3C97', 'uF3C98', 'uF3C99', 'uF3C9A', 'uF3C9B', 'uF3C9C', 'uF3C9D', 'uF3C9E', 'uF3C9F', 'uF3CA0', 'uF3CA1', 'uF3CA2', 'uF3CA3', 'uF3CA4', 'uF3CA5', 'uF3CA6', 'uF3CA7', 'uF3CA8', 'uF3CA9', 'uF3CAA', 'uF3CAB', 'uF3CAC', 'uF3CAD', 'uF3CAE', 'uF3CAF', 'uF3CB0', 'uF3CB1', 'uF3CB2', 'uF3CB3', 'uF3CB4', 'uF3CB5', 'uF3CB6', 'uF3CB7', 'uF3CB8', 'uF3CB9', 'uF3CBA', 'uF3CBB', 'uF3CBC', 'uF3CBD', 'uF3CBE', 'uF3CBF', 'uF3CC0', 'uF3CC1', 'uF3CC2', 'uF3CC3', 'uF3CC4', 'uF3CC5', 'uF3CC6', 'uF3CC7', 'uF3CC8', 'uF3CC9', 'uF3CCA', 'uF3CCB', 'uF3CCC', 'uF3CCD', 'uF3CCE', 'uF3CCF', 'uF3CD0', 'uF3CD1', 'uF3CD2', 'uF3CD3', 'uF3CD4', 'uF3CD5', 'uF3CD6', 'uF3CD7', 'uF3CD8', 'uF3CD9', 'uF3CDA', 'uF3CDB', 'uF3CDC', 'uF3CDD', 'uF3CDE', 'uF3CDF', 'uF3CE0', 'uF3CE1', 'uF3CE2', 'uF3CE3', 'uF3CE4', 'uF3CE5', 'uF3CE6', 'uF3CE7', 'uF3CE8', 'uF3CE9', 'uF3CEA', 'uF3CEB', 'uF3CEC', 'uF3CED', 'uF3CEE', 'uF3CEF', 'uF3CF0', 'uF3CF1', 'uF3CF2', 'uF3CF3', 'uF3CF4', 'uF3CF5', 'uF3CF6', 'uF3CF7', 'uF3CF8', 'uF3CF9', 'uF3CFA', 'uF3CFB', 'uF3CFC', 'uF3CFD', 'uF3CFE', 'uF3CFF', 'uF3D00', 'uF3D01', 'uF3D02', 'uF3D03', 'uF3D04', 'uF3D05', 'uF3D06', 'uF3D07', 'uF3D08', 'uF3D09', 'uF3D0A', 'uF3D0B', 'uF3D0C', 'uF3D0D', 'uF3D0E', 'uF3D0F', 'uF3D10', 'uF3D11', 'uF3D12', 'uF3D13', 'uF3D14', 'uF3D15', 'uF3D16', 'uF3D17', 'uF3D18', 'uF3D19', 'uF3D1A', 'uF3D1B', 'uF3D1C', 'uF3D1D', 'uF3D1E', 'uF3D1F', 'uF3D20', 'uF3D21', 'uF3D22', 'uF3D23', 'uF3D24', 'uF3D25', 'uF3D26', 'uF3D27', 'uF3D28', 'uF3D29', 'uF3D2A', 'uF3D2B', 'uF3D2C', 'uF3D2D', 'uF3D2E', 'uF3D2F', 'uF3D30', 'uF3D31', 'uF3D32', 'uF3D33', 'uF3D34', 'uF3D35', 'uF3D36', 'uF3D37', 'uF3D38', 'uF3D39', 'uF3D3A', 'uF3D3B', 'uF3D3C', 'uF3D3D', 'uF3D3E', 'uF3D3F', 'uF3D40', 'uF3D41', 'uF3D42', 'uF3D43', 'uF3D44', 'uF3D45', 'uF3D46', 'uF3D47', 'uF3D48', 'uF3D49', 'uF3D4A', 'uF3D4B', 'uF3D4C', 'uF3D4D', 'uF3D4E', 'uF3D4F', 'uF3D50', 'uF3D51', 'uF3D52', 'uF3D53', 'uF3D54', 'uF3D55', 'uF3D56', 'uF3D57', 'uF3D58', 'uF3D59', 'uF3D5A', 'uF3D5B', 'uF3D5C', 'uF3D5D', 'uF3D5E', 'uF3D5F', 'uF3D60', 'uF3D61', 'uF3D62', 'uF3D63', 'uF3D64', 'uF3D65', 'uF3D66', 'uF3D67', 'uF3D68', 'uF3D69', 'uF3D6A', 'uF3D6B', 'uF3D6C', 'uF3D6D', 'uF3D6E', 'uF3D6F', 'uF3D70', 'uF3D71', 'uF3D72', 'uF3D73', 'uF3D74', 'uF3D75', 'uF3D76', 'uF3D77', 'uF3D78', 'uF3D79', 'uF3D7A', 'uF3D7B', 'uF3D7C', 'uF3D7D', 'uF3D7E', 'uF3D7F', 'uF3D80', 'uF3D81', 'uF3D82', 'uF3D83', 'uF3D84', 'uF3D85', 'uF3D86', 'uF3D87', 'uF3D88', 'uF3D89', 'uF3D8A', 'uF3D8B', 'uF3D8C', 'uF3D8D', 'uF3D8E', 'uF3D8F', 'uF3D90', 'uF3D91', 'uF3D92', 'uF3D93', 'uF3D94', 'uF3D95', 'uF3D96', 'uF3D97', 'uF3D98', 'uF3D99', 'uF3D9A', 'uF3D9B', 'uF3D9C', 'uF3D9D', 'uF3D9E', 'uF3D9F', 'uF3DA0', 'uF3DA1', 'uF3DA2', 'uF3DA3', 'uF3DA4', 'uF3DA5', 'uF3DA6', 'uF3DA7', 'uF3DA8', 'uF3DA9', 'uF3DAA', 'uF3DAB', 'uF3DAC', 'uF3DAD', 'uF3DAE', 'uF3DAF', 'uF3DB0', 'uF3DB1', 'uF3DB2', 'uF3DB3', 'uF3DB4', 'uF3DB5', 'uF3DB6', 'uF3DB7', 'uF3DB8', 'uF3DB9', 'uF3DBA', 'uF3DBB', 'uF3DBC', 'uF3DBD', 'uF3DBE', 'uF3DBF', 'uF3DC0', 'uF3DC1', 'uF3DC2', 'uF3DC3', 'uF3DC4', 'uF3DC5', 'uF3DC6', 'uF3DC7', 'uF3DC8', 'uF3DC9', 'uF3DCA', 'uF3DCB', 'uF3DCC', 'uF3DCD', 'uF3DCE', 'uF3DCF', 'uF3DD0', 'uF3DD1', 'uF3DD2', 'uF3DD3', 'uF3DD4', 'uF3DD5', 'uF3DD6', 'uF3DD7', 'uF3DD8', 'uF3DD9', 'uF3DDA', 'uF3DDB', 'uF3DDC', 'uF3DDD', 'uF3DDE', 'uF3DDF', 'uF3DE0', 'uF3DE1', 'uF3DE2', 'uF3DE3', 'uF3DE4', 'uF3DE5', 'uF3DE6', 'uF3DE7', 'uF3DE8', 'uF3DE9', 'uF3DEA', 'uF3DEB', 'uF3DEC', 'uF3DED', 'uF3DEE', 'uF3DEF', 'uF3DF0', 'uF3DF1', 'uF3DF2', 'uF3DF3', 'uF3DF4', 'uF3DF5', 'uF3DF6', 'uF3DF7', 'uF3DF8', 'uF3DF9', 'uF3DFA', 'uF3DFB', 'uF3DFC', 'uF3DFD', 'uF3DFE', 'uF3DFF', 'uF3E00', 'uF3E01', 'uF3E02', 'uF3E03', 'uF3E04', 'uF3E05', 'uF3E06', 'uF3E07', 'uF3E08', 'uF3E09', 'uF3E0A', 'uF3E0B', 'uF3E0C', 'uF3E0D', 'uF3E0E', 'uF3E0F', 'uF3E10', 'uF3E11', 'uF3E12', 'uF3E13', 'uF3E14', 'uF3E15', 'uF3E16', 'uF3E17', 'uF3E18', 'uF3E19', 'uF3E1A', 'uF3E1B', 'uF3E1C', 'uF3E1D', 'uF3E1E', 'uF3E1F', 'uF3E20', 'uF3E21', 'uF3E22', 'uF3E23', 'uF3E24', 'uF3E25', 'uF3E26', 'uF3E27', 'uF3E28', 'uF3E29', 'uF3E2A', 'uF3E2B', 'uF3E2C', 'uF3E2D', 'uF3E2E', 'uF3E2F', 'uF3E30', 'uF3E31', 'uF3E32', 'uF3E33', 'uF3E34', 'uF3E35', 'uF3E36', 'uF3E37', 'uF3E38', 'uF3E39', 'uF3E3A', 'uF3E3B', 'uF3E3C', 'uF3E3D', 'uF3E3E', 'uF3E3F', 'uF3E40', 'uF3E41', 'uF3E42', 'uF3E43', 'uF3E44', 'uF3E45', 'uF3E46', 'uF3E47', 'uF3E48', 'uF3E49', 'uF3E4A', 'uF3E4B', 'uF3E4C', 'uF3E4D', 'uF3E4E', 'uF3E4F', 'uF3E50', 'uF3E51', 'uF3E52', 'uF3E53', 'uF3E54', 'uF3E55', 'uF3E56', 'uF3E57', 'uF3E58', 'uF3E59', 'uF3E5A', 'uF3E5B', 'uF3E5C', 'uF3E5D', 'uF3E5E', 'uF3E5F', 'uF3E60', 'uF3E61', 'uF3E62', 'uF3E63', 'uF3E64', 'uF3E65', 'uF3E66', 'uF3E67', 'uF3E68', 'uF3E69', 'uF3E6A', 'uF3E6B', 'uF3E6C', 'uF3E6D', 'uF3E6E', 'uF3E6F', 'uF3E70', 'uF3E71', 'uF3E72', 'uF3E73', 'uF3E74', 'uF3E75', 'uF3E76', 'uF3E77', 'uF3E78', 'uF3E79', 'uF3E7A', 'uF3E7B', 'uF3E7C', 'uF3E7D', 'uF3E7E', 'uF3E7F', 'uF3E80', 'uF3E81', 'uF3E82', 'uF3E83', 'uF3E84', 'uF3E85', 'uF3E86', 'uF3E87', 'uF3E88', 'uF3E89', 'uF3E8A', 'uF3E8B', 'uF3E8C', 'uF3E8D', 'uF3E8E', 'uF3E8F', 'uF3E90', 'uF3E91', 'uF3E92', 'uF3E93', 'uF3E94', 'uF3E95', 'uF3E96', 'uF3E97', 'uF3E98', 'uF3E99', 'uF3E9A', 'uF3E9B', 'uF3E9C', 'uF3E9D', 'uF3E9E', 'uF3E9F', 'uF3EA0', 'uF3EA1', 'uF3EA2', 'uF3EA3', 'uF3EA4', 'uF3EA5', 'uF3EA6', 'uF3EA7', 'uF3EA8', 'uF3EA9', 'uF3EAA', 'uF3EAB', 'uF3EAC', 'uF3EAD', 'uF3EAE', 'uF3EAF', 'uF3EB0', 'uF3EB1', 'uF3EB2', 'uF3EB3', 'uF3EB4', 'uF3EB5', 'uF3EB6', 'uF3EB7', 'uF3EB8', 'uF3EB9', 'uF3EBA', 'uF3EBB', 'uF3EBC', 'uF3EBD', 'uF3EBE', 'uF3EBF', 'uF3EC0', 'uF3EC1', 'uF3EC2', 'uF3EC3', 'uF3EC4', 'uF3EC5', 'uF3EC6', 'uF3EC7', 'uF3EC8', 'uF3EC9', 'uF3ECA', 'uF3ECB', 'uF3ECC', 'uF3ECD', 'uF3ECE', 'uF3ECF', 'uF3ED0', 'uF3ED1', 'uF3ED2', 'uF3ED3', 'uF3ED4', 'uF3ED5', 'uF3ED6', 'uF3ED7', 'uF3ED8', 'uF3ED9', 'uF3EDA', 'uF3EDB', 'uF3EDC', 'uF3EDD', 'uF3EDE', 'uF3EDF', 'uF3EE0', 'uF3EE1', 'uF3EE2', 'uF3EE3', 'uF3EE4', 'uF3EE5', 'uF3EE6', 'uF3EE7', 'uF3EE8', 'uF3EE9', 'uF3EEA', 'uF3EEB', 'uF3EEC', 'uF3EED', 'uF3EEE', 'uF3EEF', 'uF3EF0', 'uF3EF1', 'uF3EF2', 'uF3EF3', 'uF3EF4', 'uF3EF5', 'uF3EF6', 'uF3EF7', 'uF3EF8', 'uF3EF9', 'uF3EFA', 'uF3EFB', 'uF3EFC', 'uF3EFD', 'uF3EFE', 'uF3EFF', 'uF3F00', 'uF3F01', 'uF3F02', 'uF3F03', 'uF3F04', 'uF3F05', 'uF3F06', 'uF3F07', 'uF3F08', 'uF3F09', 'uF3F0A', 'uF3F0B', 'uF3F0C', 'uF3F0D', 'uF3F0E', 'uF3F0F', 'uF3F10', 'uF3F11', 'uF3F12', 'uF3F13', 'uF3F14', 'uF3F15', 'uF3F16', 'uF3F17', 'uF3F18', 'uF3F19', 'uF3F1A', 'uF3F1B', 'uF3F1C', 'uF3F1D', 'uF3F1E', 'uF3F1F', 'uF3F20', 'uF3F21', 'uF3F22', 'uF3F23', 'uF3F24', 'uF3F25', 'uF3F26', 'uF3F27', 'uF3F28', 'uF3F29', 'uF3F2A', 'uF3F2B', 'uF3F2C', 'uF3F2D', 'uF3F2E', 'uF3F2F', 'uF3F30', 'uF3F31', 'uF3F32', 'uF3F33', 'uF3F34', 'uF3F35', 'uF3F36', 'uF3F37', 'uF3F38', 'uF3F39', 'uF3F3A', 'uF3F3B', 'uF3F3C', 'uF3F3D', 'uF3F3E', 'uF3F3F', 'uF3F40', 'uF3F41', 'uF3F42', 'uF3F43', 'uF3F44', 'uF3F45', 'uF3F46', 'uF3F47', 'uF3F48', 'uF3F49', 'uF3F4A', 'uF3F4B', 'uF3F4C', 'uF3F4D', 'uF3F4E', 'uF3F4F', 'uF3F50', 'uF3F51', 'uF3F52', 'uF3F53', 'uF3F54', 'uF3F55', 'uF3F56', 'uF3F57', 'uF3F58', 'uF3F59', 'uF3F5A', 'uF3F5B', 'uF3F5C', 'uF3F5D', 'uF3F5E', 'uF3F5F', 'uF3F60', 'uF3F61', 'uF3F62', 'uF3F63', 'uF3F64', 'uF3F65', 'uF3F66', 'uF3F67', 'uF3F68', 'uF3F69', 'uF3F6A', 'uF3F6B', 'uF3F6C', 'uF3F6D', 'uF3F6E', 'uF3F6F', 'uF3F70', 'uF3F71', 'uF3F72', 'uF3F73', 'uF3F74', 'uF3F75', 'uF3F76', 'uF3F77', 'uF3F78', 'uF3F79', 'uF3F7A', 'uF3F7B', 'uF3F7C', 'uF3F7D', 'uF3F7E', 'uF3F7F', 'uF3F80', 'uF3F81', 'uF3F82', 'uF3F83', 'uF3F84', 'uF3F85', 'uF3F86', 'uF3F87', 'uF3F88', 'uF3F89', 'uF3F8A', 'uF3F8B', 'uF3F8C', 'uF3F8D', 'uF3F8E', 'uF3F8F', 'uF3F90', 'uF3F91', 'uF3F92', 'uF3F93', 'uF3F94', 'uF3F95', 'uF3F96', 'uF3F97', 'uF3F98', 'uF3F99', 'uF3F9A', 'uF3F9B', 'uF3F9C', 'uF3F9D', 'uF3F9E', 'uF3F9F', 'uF3FA0', 'uF3FA1', 'uF3FA2', 'uF3FA3', 'uF3FA4', 'uF3FA5', 'uF3FA6', 'uF3FA7', 'uF3FA8', 'uF3FA9', 'uF3FAA', 'uF3FAB', 'uF3FAC', 'uF3FAD', 'uF3FAE', 'uF3FAF', 'uF3FB0', 'uF3FB1', 'uF3FB2', 'uF3FB3', 'uF3FB4', 'uF3FB5', 'uF3FB6', 'uF3FB7', 'uF3FB8', 'uF3FB9', 'uF3FBA', 'uF3FBB', 'uF3FBC', 'uF3FBD', 'uF3FBE', 'uF3FBF', 'uF3FC0', 'uF3FC1', 'uF3FC2', 'uF3FC3', 'uF3FC4', 'uF3FC5', 'uF3FC6', 'uF3FC7', 'uF3FC8', 'uF3FC9', 'uF3FCA', 'uF3FCB', 'uF3FCC', 'uF3FCD', 'uF3FCE', 'uF3FCF', 'uF3FD0', 'uF3FD1', 'uF3FD2', 'uF3FD3', 'uF3FD4', 'uF3FD5', 'uF3FD6', 'uF3FD7', 'uF3FD8', 'uF3FD9', 'uF3FDA', 'uF3FDB', 'uF3FDC', 'uF3FDD', 'uF3FDE', 'uF3FDF', 'uF3FE0', 'uF3FE1', 'uF3FE2', 'uF3FE3', 'uF3FE4', 'uF3FE5', 'uF3FE6', 'uF3FE7', 'uF3FE8', 'uF3FE9', 'uF3FEA', 'uF3FEB', 'uF3FEC', 'uF3FED', 'uF3FEE', 'uF3FEF', 'uF3FF0', 'uF3FF1', 'uF3FF2', 'uF3FF3', 'uF3FF4', 'uF3FF5', 'uF3FF6', 'uF3FF7', 'uF3FF8', 'uF3FF9', 'uF3FFA', 'uF3FFB', 'uF3FFC', 'uF3FFD', 'uF3FFE', 'uF3FFF', 'uF4000', 'uF4001', 'uF4002', 'uF4003', 'uF4004', 'uF4005', 'uF4006', 'uF4007', 'uF4008', 'uF4009', 'uF400A', 'uF400B', 'uF400C', 'uF400D', 'uF400E', 'uF400F', 'uF4010', 'uF4011', 'uF4012', 'uF4013', 'uF4014', 'uF4015', 'uF4016', 'uF4017', 'uF4018', 'uF4019', 'uF401A', 'uF401B', 'uF401C', 'uF401D', 'uF401E', 'uF401F', 'uF4020', 'uF4021', 'uF4022', 'uF4023', 'uF4024', 'uF4025', 'uF4026', 'uF4027', 'uF4028', 'uF4029', 'uF402A', 'uF402B', 'uF402C', 'uF402D', 'uF402E', 'uF402F', 'uF4030', 'uF4031', 'uF4032', 'uF4033', 'uF4034', 'uF4035', 'uF4036', 'uF4037', 'uF4038', 'uF4039', 'uF403A', 'uF403B', 'uF403C', 'uF403D', 'uF403E', 'uF403F', 'uF4040', 'uF4041', 'uF4042', 'uF4043', 'uF4044', 'uF4045', 'uF4046', 'uF4047', 'uF4048', 'uF4049', 'uF404A', 'uF404B', 'uF404C', 'uF404D', 'uF404E', 'uF404F', 'uF4050', 'uF4051', 'uF4052', 'uF4053', 'uF4054', 'uF4055', 'uF4056', 'uF4057', 'uF4058', 'uF4059', 'uF405A', 'uF405B', 'uF405C', 'uF405D', 'uF405E', 'uF405F', 'uF4060', 'uF4061', 'uF4062', 'uF4063', 'uF4064', 'uF4065', 'uF4066', 'uF4067', 'uF4068', 'uF4069', 'uF406A', 'uF406B', 'uF406C', 'uF406D', 'uF406E', 'uF406F', 'uF4070', 'uF4071', 'uF4072', 'uF4073', 'uF4074', 'uF4075', 'uF4076', 'uF4077', 'uF4078', 'uF4079', 'uF407A', 'uF407B', 'uF407C', 'uF407D', 'uF407E', 'uF407F', 'uF4080', 'uF4081', 'uF4082', 'uF4083', 'uF4084', 'uF4085', 'uF4086', 'uF4087', 'uF4088', 'uF4089', 'uF408A', 'uF408B', 'uF408C', 'uF408D', 'uF408E', 'uF408F', 'uF4090', 'uF4091', 'uF4092', 'uF4093', 'uF4094', 'uF4095', 'uF4096', 'uF4097', 'uF4098', 'uF4099', 'uF409A', 'uF409B', 'uF409C', 'uF409D', 'uF409E', 'uF409F', 'uF40A0', 'uF40A1', 'uF40A2', 'uF40A3', 'uF40A4', 'uF40A5', 'uF40A6', 'uF40A7', 'uF40A8', 'uF40A9', 'uF40AA', 'uF40AB', 'uF40AC', 'uF40AD', 'uF40AE', 'uF40AF', 'uF40B0', 'uF40B1', 'uF40B2', 'uF40B3', 'uF40B4', 'uF40B5', 'uF40B6', 'uF40B7', 'uF40B8', 'uF40B9', 'uF40BA', 'uF40BB', 'uF40BC', 'uF40BD', 'uF40BE', 'uF40BF', 'uF40C0', 'uF40C1', 'uF40C2', 'uF40C3', 'uF40C4', 'uF40C5', 'uF40C6', 'uF40C7', 'uF40C8', 'uF40C9', 'uF40CA', 'uF40CB', 'uF40CC', 'uF40CD', 'uF40CE', 'uF40CF', 'uF40D0', 'uF40D1', 'uF40D2', 'uF40D3', 'uF40D4', 'uF40D5', 'uF40D6', 'uF40D7', 'uF40D8', 'uF40D9', 'uF40DA', 'uF40DB', 'uF40DC', 'uF40DD', 'uF40DE', 'uF40DF', 'uF40E0', 'uF40E1', 'uF40E2', 'uF40E3', 'uF40E4', 'uF40E5', 'uF40E6', 'uF40E7', 'uF40E8', 'uF40E9', 'uF40EA', 'uF40EB', 'uF40EC', 'uF40ED', 'uF40EE', 'uF40EF', 'uF40F0', 'uF40F1', 'uF40F2', 'uF40F3', 'uF40F4', 'uF40F5', 'uF40F6', 'uF40F7', 'uF40F8', 'uF40F9', 'uF40FA', 'uF40FB', 'uF40FC', 'uF40FD', 'uF40FE', 'uF40FF', 'uF4100', 'uF4101', 'uF4102', 'uF4103', 'uF4104', 'uF4105', 'uF4106', 'uF4107', 'uF4108', 'uF4109', 'uF410A', 'uF410B', 'uF410C', 'uF410D', 'uF410E', 'uF410F', 'uF4110', 'uF4111', 'uF4112', 'uF4113', 'uF4114', 'uF4115', 'uF4116', 'uF4117', 'uF4118', 'uF4119', 'uF411A', 'uF411B', 'uF411C', 'uF411D', 'uF411E', 'uF411F', 'uF4120', 'uF4121', 'uF4122', 'uF4123', 'uF4124', 'uF4125', 'uF4126', 'uF4127', 'uF4128', 'uF4129', 'uF412A', 'uF412B', 'uF412C', 'uF412D', 'uF412E', 'uF412F', 'uF4130', 'uF4131', 'uF4132', 'uF4133', 'uF4134', 'uF4135', 'uF4136', 'uF4137', 'uF4138', 'uF4139', 'uF413A', 'uF413B', 'uF413C', 'uF413D', 'uF413E', 'uF413F', 'uF4140', 'uF4141', 'uF4142', 'uF4143', 'uF4144', 'uF4145', 'uF4146', 'uF4147', 'uF4148', 'uF4149', 'uF414A', 'uF414B', 'uF414C', 'uF414D', 'uF414E', 'uF414F', 'uF4150', 'uF4151', 'uF4152', 'uF4153', 'uF4154', 'uF4155', 'uF4156', 'uF4157', 'uF4158', 'uF4159', 'uF415A', 'uF415B', 'uF415C', 'uF415D', 'uF415E', 'uF415F', 'uF4160', 'uF4161', 'uF4162', 'uF4163', 'uF4164', 'uF4165', 'uF4166', 'uF4167', 'uF4168', 'uF4169', 'uF416A', 'uF416B', 'uF416C', 'uF416D', 'uF416E', 'uF416F', 'uF4170', 'uF4171', 'uF4172', 'uF4173', 'uF4174', 'uF4175', 'uF4176', 'uF4177', 'uF4178', 'uF4179', 'uF417A', 'uF417B', 'uF417C', 'uF417D', 'uF417E', 'uF417F', 'uF4180', 'uF4181', 'uF4182', 'uF4183', 'uF4184', 'uF4185', 'uF4186', 'uF4187', 'uF4188', 'uF4189', 'uF418A', 'uF418B', 'uF418C', 'uF418D', 'uF418E', 'uF418F', 'uF4190', 'uF4191', 'uF4192', 'uF4193', 'uF4194', 'uF4195', 'uF4196', 'uF4197', 'uF4198', 'uF4199', 'uF419A', 'uF419B', 'uF419C', 'uF419D', 'uF419E', 'uF419F', 'uF41A0', 'uF41A1', 'uF41A2', 'uF41A3', 'uF41A4', 'uF41A5', 'uF41A6', 'uF41A7', 'uF41A8', 'uF41A9', 'uF41AA', 'uF41AB', 'uF41AC', 'uF41AD', 'uF41AE', 'uF41AF', 'uF41B0', 'uF41B1', 'uF41B2', 'uF41B3', 'uF41B4', 'uF41B5', 'uF41B6', 'uF41B7', 'uF41B8', 'uF41B9', 'uF41BA', 'uF41BB', 'uF41BC', 'uF41BD', 'uF41BE', 'uF41BF', 'uF41C0', 'uF41C1', 'uF41C2', 'uF41C3', 'uF41C4', 'uF41C5', 'uF41C6', 'uF41C7', 'uF41C8', 'uF41C9', 'uF41CA', 'uF41CB', 'uF41CC', 'uF41CD', 'uF41CE', 'uF41CF', 'uF41D0', 'uF41D1', 'uF41D2', 'uF41D3', 'uF41D4', 'uF41D5', 'uF41D6', 'uF41D7', 'uF41D8', 'uF41D9', 'uF41DA', 'uF41DB', 'uF41DC', 'uF41DD', 'uF41DE', 'uF41DF', 'uF41E0', 'uF41E1', 'uF41E2', 'uF41E3', 'uF41E4', 'uF41E5', 'uF41E6', 'uF41E7', 'uF41E8', 'uF41E9', 'uF41EA', 'uF41EB', 'uF41EC', 'uF41ED', 'uF41EE', 'uF41EF', 'uF41F0', 'uF41F1', 'uF41F2', 'uF41F3', 'uF41F4', 'uF41F5', 'uF41F6', 'uF41F7', 'uF41F8', 'uF41F9', 'uF41FA', 'uF41FB', 'uF41FC', 'uF41FD', 'uF41FE', 'uF41FF', 'uF4200', 'uF4201', 'uF4202', 'uF4203', 'uF4204', 'uF4205', 'uF4206', 'uF4207', 'uF4208', 'uF4209', 'uF420A', 'uF420B', 'uF420C', 'uF420D', 'uF420E', 'uF420F', 'uF4210', 'uF4211', 'uF4212', 'uF4213', 'uF4214', 'uF4215', 'uF4216', 'uF4217', 'uF4218', 'uF4219', 'uF421A', 'uF421B', 'uF421C', 'uF421D', 'uF421E', 'uF421F', 'uF4220', 'uF4221', 'uF4222', 'uF4223', 'uF4224', 'uF4225', 'uF4226', 'uF4227', 'uF4228', 'uF4229', 'uF422A', 'uF422B', 'uF422C', 'uF422D', 'uF422E', 'uF422F', 'uF4230', 'uF4231', 'uF4232', 'uF4233', 'uF4234', 'uF4235', 'uF4236', 'uF4237', 'uF4238', 'uF4239', 'uF423A', 'uF423B', 'uF423C', 'uF423D', 'uF423E', 'uF423F', 'uF4240', 'uF4241', 'uF4242', 'uF4243', 'uF4244', 'uF4245', 'uF4246', 'uF4247', 'uF4248', 'uF4249', 'uF424A', 'uF424B', 'uF424C', 'uF424D', 'uF424E', 'uF424F', 'uF4250', 'uF4251', 'uF4252', 'uF4253', 'uF4254', 'uF4255', 'uF4256', 'uF4257', 'uF4258', 'uF4259', 'uF425A', 'uF425B', 'uF425C', 'uF425D', 'uF425E', 'uF425F', 'uF4260', 'uF4261', 'uF4262', 'uF4263', 'uF4264', 'uF4265', 'uF4266', 'uF4267', 'uF4268', 'uF4269', 'uF426A', 'uF426B', 'uF426C', 'uF426D', 'uF426E', 'uF426F', 'uF4270', 'uF4271', 'uF4272', 'uF4273', 'uF4274', 'uF4275', 'uF4276', 'uF4277', 'uF4278', 'uF4279', 'uF427A', 'uF427B', 'uF427C', 'uF427D', 'uF427E', 'uF427F', 'uF4280', 'uF4281', 'uF4282', 'uF4283', 'uF4284', 'uF4285', 'uF4286', 'uF4287', 'uF4288', 'uF4289', 'uF428A', 'uF428B', 'uF428C', 'uF428D', 'uF428E', 'uF428F', 'uF4290', 'uF4291', 'uF4292', 'uF4293', 'uF4294', 'uF4295', 'uF4296', 'uF4297', 'uF4298', 'uF4299', 'uF429A', 'uF429B', 'uF429C', 'uF429D', 'uF429E', 'uF429F', 'uF42A0', 'uF42A1', 'uF42A2', 'uF42A3', 'uF42A4', 'uF42A5', 'uF42A6', 'uF42A7', 'uF42A8', 'uF42A9', 'uF42AA', 'uF42AB', 'uF42AC', 'uF42AD', 'uF42AE', 'uF42AF', 'uF42B0', 'uF42B1', 'uF42B2', 'uF42B3', 'uF42B4', 'uF42B5', 'uF42B6', 'uF42B7', 'uF42B8', 'uF42B9', 'uF42BA', 'uF42BB', 'uF42BC', 'uF42BD', 'uF42BE', 'uF42BF', 'uF42C0', 'uF42C1', 'uF42C2', 'uF42C3', 'uF42C4', 'uF42C5', 'uF42C6', 'uF42C7', 'uF42C8', 'uF42C9', 'uF42CA', 'uF42CB', 'uF42CC', 'uF42CD', 'uF42CE', 'uF42CF', 'uF42D0', 'uF42D1', 'uF42D2', 'uF42D3', 'uF42D4', 'uF42D5', 'uF42D6', 'uF42D7', 'uF42D8', 'uF42D9', 'uF42DA', 'uF42DB', 'uF42DC', 'uF42DD', 'uF42DE', 'uF42DF', 'uF42E0', 'uF42E1', 'uF42E2', 'uF42E3', 'uF42E4', 'uF42E5', 'uF42E6', 'uF42E7', 'uF42E8', 'uF42E9', 'uF42EA', 'uF42EB', 'uF42EC', 'uF42ED', 'uF42EE', 'uF42EF', 'uF42F0', 'uF42F1', 'uF42F2', 'uF42F3', 'uF42F4', 'uF42F5', 'uF42F6', 'uF42F7', 'uF42F8', 'uF42F9', 'uF42FA', 'uF42FB', 'uF42FC', 'uF42FD', 'uF42FE', 'uF42FF', 'uF4300', 'uF4301', 'uF4302', 'uF4303', 'uF4304', 'uF4305', 'uF4306', 'uF4307', 'uF4308', 'uF4309', 'uF430A', 'uF430B', 'uF430C', 'uF430D', 'uF430E', 'uF430F', 'uF4310', 'uF4311', 'uF4312', 'uF4313', 'uF4314', 'uF4315', 'uF4316', 'uF4317', 'uF4318', 'uF4319', 'uF431A', 'uF431B', 'uF431C', 'uF431D', 'uF431E', 'uF431F', 'uF4320', 'uF4321', 'uF4322', 'uF4323', 'uF4324', 'uF4325', 'uF4326', 'uF4327', 'uF4328', 'uF4329', 'uF432A', 'uF432B', 'uF432C', 'uF432D', 'uF432E', 'uF432F', 'uF4330', 'uF4331', 'uF4332', 'uF4333', 'uF4334', 'uF4335', 'uF4336', 'uF4337', 'uF4338', 'uF4339', 'uF433A', 'uF433B', 'uF433C', 'uF433D', 'uF433E', 'uF433F', 'uF4340', 'uF4341', 'uF4342', 'uF4343', 'uF4344', 'uF4345', 'uF4346', 'uF4347', 'uF4348', 'uF4349', 'uF434A', 'uF434B', 'uF434C', 'uF434D', 'uF434E', 'uF434F', 'uF4350', 'uF4351', 'uF4352', 'uF4353', 'uF4354', 'uF4355', 'uF4356', 'uF4357', 'uF4358', 'uF4359', 'uF435A', 'uF435B', 'uF435C', 'uF435D', 'uF435E', 'uF435F', 'uF4360', 'uF4361', 'uF4362', 'uF4363', 'uF4364', 'uF4365', 'uF4366', 'uF4367', 'uF4368', 'uF4369', 'uF436A', 'uF436B', 'uF436C', 'uF436D', 'uF436E', 'uF436F', 'uF4370', 'uF4371', 'uF4372', 'uF4373', 'uF4374', 'uF4375', 'uF4376', 'uF4377', 'uF4378', 'uF4379', 'uF437A', 'uF437B', 'uF437C', 'uF437D', 'uF437E', 'uF437F', 'uF4380', 'uF4381', 'uF4382', 'uF4383', 'uF4384', 'uF4385', 'uF4386', 'uF4387', 'uF4388', 'uF4389', 'uF438A', 'uF438B', 'uF438C', 'uF438D', 'uF438E', 'uF438F', 'uF4390', 'uF4391', 'uF4392', 'uF4393', 'uF4394', 'uF4395', 'uF4396', 'uF4397', 'uF4398', 'uF4399', 'uF439A', 'uF439B', 'uF439C', 'uF439D', 'uF439E', 'uF439F', 'uF43A0', 'uF43A1', 'uF43A2', 'uF43A3', 'uF43A4', 'uF43A5', 'uF43A6', 'uF43A7', 'uF43A8', 'uF43A9', 'uF43AA', 'uF43AB', 'uF43AC', 'uF43AD', 'uF43AE', 'uF43AF', 'uF43B0', 'uF43B1', 'uF43B2', 'uF43B3', 'uF43B4', 'uF43B5', 'uF43B6', 'uF43B7', 'uF43B8', 'uF43B9', 'uF43BA', 'uF43BB', 'uF43BC', 'uF43BD', 'uF43BE', 'uF43BF', 'uF43C0', 'uF43C1', 'uF43C2', 'uF43C3', 'uF43C4', 'uF43C5', 'uF43C6', 'uF43C7', 'uF43C8', 'uF43C9', 'uF43CA', 'uF43CB', 'uF43CC', 'uF43CD', 'uF43CE', 'uF43CF', 'uF43D0', 'uF43D1', 'uF43D2', 'uF43D3', 'uF43D4', 'uF43D5', 'uF43D6', 'uF43D7', 'uF43D8', 'uF43D9', 'uF43DA', 'uF43DB', 'uF43DC', 'uF43DD', 'uF43DE', 'uF43DF', 'uF43E0', 'uF43E1', 'uF43E2', 'uF43E3', 'uF43E4', 'uF43E5', 'uF43E6', 'uF43E7', 'uF43E8', 'uF43E9', 'uF43EA', 'uF43EB', 'uF43EC', 'uF43ED', 'uF43EE', 'uF43EF', 'uF43F0', 'uF43F1', 'uF43F2', 'uF43F3', 'uF43F4', 'uF43F5', 'uF43F6', 'uF43F7', 'uF43F8', 'uF43F9', 'uF43FA', 'uF43FB', 'uF43FC', 'uF43FD', 'uF43FE', 'uF43FF', 'uF4400', 'uF4401', 'uF4402', 'uF4403', 'uF4404', 'uF4405', 'uF4406', 'uF4407', 'uF4408', 'uF4409', 'uF440A', 'uF440B', 'uF440C', 'uF440D', 'uF440E', 'uF440F', 'uF4410', 'uF4411', 'uF4412', 'uF4413', 'uF4414', 'uF4415', 'uF4416', 'uF4417', 'uF4418', 'uF4419', 'uF441A', 'uF441B', 'uF441C', 'uF441D', 'uF441E', 'uF441F', 'uF4420', 'uF4421', 'uF4422', 'uF4423', 'uF4424', 'uF4425', 'uF4426', 'uF4427', 'uF4428', 'uF4429', 'uF442A', 'uF442B', 'uF442C', 'uF442D', 'uF442E', 'uF442F', 'uF4430', 'uF4431', 'uF4432', 'uF4433', 'uF4434', 'uF4435', 'uF4436', 'uF4437', 'uF4438', 'uF4439', 'uF443A', 'uF443B', 'uF443C', 'uF443D', 'uF443E', 'uF443F', 'uF4440', 'uF4441', 'uF4442', 'uF4443', 'uF4444', 'uF4445', 'uF4446', 'uF4447', 'uF4448', 'uF4449', 'uF444A', 'uF444B', 'uF444C', 'uF444D', 'uF444E', 'uF444F', 'uF4450', 'uF4451', 'uF4452', 'uF4453', 'uF4454', 'uF4455', 'uF4456', 'uF4457', 'uF4458', 'uF4459', 'uF445A', 'uF445B', 'uF445C', 'uF445D', 'uF445E', 'uF445F', 'uF4460', 'uF4461', 'uF4462', 'uF4463', 'uF4464', 'uF4465', 'uF4466', 'uF4467', 'uF4468', 'uF4469', 'uF446A', 'uF446B', 'uF446C', 'uF446D', 'uF446E', 'uF446F', 'uF4470', 'uF4471', 'uF4472', 'uF4473', 'uF4474', 'uF4475', 'uF4476', 'uF4477', 'uF4478', 'uF4479', 'uF447A', 'uF447B', 'uF447C', 'uF447D', 'uF447E', 'uF447F', 'uF4480', 'uF4481', 'uF4482', 'uF4483', 'uF4484', 'uF4485', 'uF4486', 'uF4487', 'uF4488', 'uF4489', 'uF448A', 'uF448B', 'uF448C', 'uF448D', 'uF448E', 'uF448F', 'uF4490', 'uF4491', 'uF4492', 'uF4493', 'uF4494', 'uF4495', 'uF4496', 'uF4497', 'uF4498', 'uF4499', 'uF449A', 'uF449B', 'uF449C', 'uF449D', 'uF449E', 'uF449F', 'uF44A0', 'uF44A1', 'uF44A2', 'uF44A3', 'uF44A4', 'uF44A5', 'uF44A6', 'uF44A7', 'uF44A8', 'uF44A9', 'uF44AA', 'uF44AB', 'uF44AC', 'uF44AD', 'uF44AE', 'uF44AF', 'uF44B0', 'uF44B1', 'uF44B2', 'uF44B3', 'uF44B4', 'uF44B5', 'uF44B6', 'uF44B7', 'uF44B8', 'uF44B9', 'uF44BA', 'uF44BB', 'uF44BC', 'uF44BD', 'uF44BE', 'uF44BF', 'uF44C0', 'uF44C1', 'uF44C2', 'uF44C3', 'uF44C4', 'uF44C5', 'uF44C6', 'uF44C7', 'uF44C8', 'uF44C9', 'uF44CA', 'uF44CB', 'uF44CC', 'uF44CD', 'uF44CE', 'uF44CF', 'uF44D0', 'uF44D1', 'uF44D2', 'uF44D3', 'uF44D4', 'uF44D5', 'uF44D6', 'uF44D7', 'uF44D8', 'uF44D9', 'uF44DA', 'uF44DB', 'uF44DC', 'uF44DD', 'uF44DE', 'uF44DF', 'uF44E0', 'uF44E1', 'uF44E2', 'uF44E3', 'uF44E4', 'uF44E5', 'uF44E6', 'uF44E7', 'uF44E8', 'uF44E9', 'uF44EA', 'uF44EB', 'uF44EC', 'uF44ED', 'uF44EE', 'uF44EF', 'uF44F0', 'uF44F1', 'uF44F2', 'uF44F3', 'uF44F4', 'uF44F5', 'uF44F6', 'uF44F7', 'uF44F8', 'uF44F9', 'uF44FA', 'uF44FB', 'uF44FC', 'uF44FD', 'uF44FE', 'uF44FF', 'uF4500', 'uF4501', 'uF4502', 'uF4503', 'uF4504', 'uF4505', 'uF4506', 'uF4507', 'uF4508', 'uF4509', 'uF450A', 'uF450B', 'uF450C', 'uF450D', 'uF450E', 'uF450F', 'uF4510', 'uF4511', 'uF4512', 'uF4513', 'uF4514', 'uF4515', 'uF4516', 'uF4517', 'uF4518', 'uF4519', 'uF451A', 'uF451B', 'uF451C', 'uF451D', 'uF451E', 'uF451F', 'uF4520', 'uF4521', 'uF4522', 'uF4523', 'uF4524', 'uF4525', 'uF4526', 'uF4527', 'uF4528', 'uF4529', 'uF452A', 'uF452B', 'uF452C', 'uF452D', 'uF452E', 'uF452F', 'uF4530', 'uF4531', 'uF4532', 'uF4533', 'uF4534', 'uF4535', 'uF4536', 'uF4537', 'uF4538', 'uF4539', 'uF453A', 'uF453B', 'uF453C', 'uF453D', 'uF453E', 'uF453F', 'uF4540', 'uF4541', 'uF4542', 'uF4543', 'uF4544', 'uF4545', 'uF4546', 'uF4547', 'uF4548', 'uF4549', 'uF454A', 'uF454B', 'uF454C', 'uF454D', 'uF454E', 'uF454F', 'uF4550', 'uF4551', 'uF4552', 'uF4553', 'uF4554', 'uF4555', 'uF4556', 'uF4557', 'uF4558', 'uF4559', 'uF455A', 'uF455B', 'uF455C', 'uF455D', 'uF455E', 'uF455F', 'uF4560', 'uF4561', 'uF4562', 'uF4563', 'uF4564', 'uF4565', 'uF4566', 'uF4567', 'uF4568', 'uF4569', 'uF456A', 'uF456B', 'uF456C', 'uF456D', 'uF456E', 'uF456F', 'uF4570', 'uF4571', 'uF4572', 'uF4573', 'uF4574', 'uF4575', 'uF4576', 'uF4577', 'uF4578', 'uF4579', 'uF457A', 'uF457B', 'uF457C', 'uF457D', 'uF457E', 'uF457F', 'uF4580', 'uF4581', 'uF4582', 'uF4583', 'uF4584', 'uF4585', 'uF4586', 'uF4587', 'uF4588', 'uF4589', 'uF458A', 'uF458B', 'uF458C', 'uF458D', 'uF458E', 'uF458F', 'uF4590', 'uF4591', 'uF4592', 'uF4593', 'uF4594', 'uF4595', 'uF4596', 'uF4597', 'uF4598', 'uF4599', 'uF459A', 'uF459B', 'uF459C', 'uF459D', 'uF459E', 'uF459F', 'uF45A0', 'uF45A1', 'uF45A2', 'uF45A3', 'uF45A4', 'uF45A5', 'uF45A6', 'uF45A7', 'uF45A8', 'uF45A9', 'uF45AA', 'uF45AB', 'uF45AC', 'uF45AD', 'uF45AE', 'uF45AF', 'uF45B0', 'uF45B1', 'uF45B2', 'uF45B3', 'uF45B4', 'uF45B5', 'uF45B6', 'uF45B7', 'uF45B8', 'uF45B9', 'uF45BA', 'uF45BB', 'uF45BC', 'uF45BD', 'uF45BE', 'uF45BF', 'uF45C0', 'uF45C1', 'uF45C2', 'uF45C3', 'uF45C4', 'uF45C5', 'uF45C6', 'uF45C7', 'uF45C8', 'uF45C9', 'uF45CA', 'uF45CB', 'uF45CC', 'uF45CD', 'uF45CE', 'uF45CF', 'uF45D0', 'uF45D1', 'uF45D2', 'uF45D3', 'uF45D4', 'uF45D5', 'uF45D6', 'uF45D7', 'uF45D8', 'uF45D9', 'uF45DA', 'uF45DB', 'uF45DC', 'uF45DD', 'uF45DE', 'uF45DF', 'uF45E0', 'uF45E1', 'uF45E2', 'uF45E3', 'uF45E4', 'uF45E5', 'uF45E6', 'uF45E7', 'uF45E8', 'uF45E9', 'uF45EA', 'uF45EB', 'uF45EC', 'uF45ED', 'uF45EE', 'uF45EF', 'uF45F0', 'uF45F1', 'uF45F2', 'uF45F3', 'uF45F4', 'uF45F5', 'uF45F6', 'uF45F7', 'uF45F8', 'uF45F9', 'uF45FA', 'uF45FB', 'uF45FC', 'uF45FD', 'uF45FE', 'uF45FF', 'uF4600', 'uF4601', 'uF4602', 'uF4603', 'uF4604', 'uF4605', 'uF4606', 'uF4607', 'uF4608', 'uF4609', 'uF460A', 'uF460B', 'uF460C', 'uF460D', 'uF460E', 'uF460F', 'uF4610', 'uF4611', 'uF4612', 'uF4613', 'uF4614', 'uF4615', 'uF4616', 'uF4617', 'uF4618', 'uF4619', 'uF461A', 'uF461B', 'uF461C', 'uF461D', 'uF461E', 'uF461F', 'uF4620', 'uF4621', 'uF4622', 'uF4623', 'uF4624', 'uF4625', 'uF4626', 'uF4627', 'uF4628', 'uF4629', 'uF462A', 'uF462B', 'uF462C', 'uF462D', 'uF462E', 'uF462F', 'uF4630', 'uF4631', 'uF4632', 'uF4633', 'uF4634', 'uF4635', 'uF4636', 'uF4637', 'uF4638', 'uF4639', 'uF463A', 'uF463B', 'uF463C', 'uF463D', 'uF463E', 'uF463F', 'uF4640', 'uF4641', 'uF4642', 'uF4643', 'uF4644', 'uF4645', 'uF4646', 'uF4647', 'uF4648', 'uF4649', 'uF464A', 'uF464B', 'uF464C', 'uF464D', 'uF464E', 'uF464F', 'uF4650', 'uF4651', 'uF4652', 'uF4653', 'uF4654', 'uF4655', 'uF4656', 'uF4657', 'uF4658', 'uF4659', 'uF465A', 'uF465B', 'uF465C', 'uF465D', 'uF465E', 'uF465F', 'uF4660', 'uF4661', 'uF4662', 'uF4663', 'uF4664', 'uF4665', 'uF4666', 'uF4667', 'uF4668', 'uF4669', 'uF466A', 'uF466B', 'uF466C', 'uF466D', 'uF466E', 'uF466F', 'uF4670', 'uF4671', 'uF4672', 'uF4673', 'uF4674', 'uF4675', 'uF4676', 'uF4677', 'uF4678', 'uF4679', 'uF467A', 'uF467B', 'uF467C', 'uF467D', 'uF467E', 'uF467F', 'uF4680', 'uF4681', 'uF4682', 'uF4683', 'uF4684', 'uF4685', 'uF4686', 'uF4687', 'uF4688', 'uF4689', 'uF468A', 'uF468B', 'uF468C', 'uF468D', 'uF468E', 'uF468F', 'uF4690', 'uF4691', 'uF4692', 'uF4693', 'uF4694', 'uF4695', 'uF4696', 'uF4697', 'uF4698', 'uF4699', 'uF469A', 'uF469B', 'uF469C', 'uF469D', 'uF469E', 'uF469F', 'uF46A0', 'uF46A1', 'uF46A2', 'uF46A3', 'uF46A4', 'uF46A5', 'uF46A6', 'uF46A7', 'uF46A8', 'uF46A9', 'uF46AA', 'uF46AB', 'uF46AC', 'uF46AD', 'uF46AE', 'uF46AF', 'uF46B0', 'uF46B1', 'uF46B2', 'uF46B3', 'uF46B4', 'uF46B5', 'uF46B6', 'uF46B7', 'uF46B8', 'uF46B9', 'uF46BA', 'uF46BB', 'uF46BC', 'uF46BD', 'uF46BE', 'uF46BF', 'uF46C0', 'uF46C1', 'uF46C2', 'uF46C3', 'uF46C4', 'uF46C5', 'uF46C6', 'uF46C7', 'uF46C8', 'uF46C9', 'uF46CA', 'uF46CB', 'uF46CC', 'uF46CD', 'uF46CE', 'uF46CF', 'uF46D0', 'uF46D1', 'uF46D2', 'uF46D3', 'uF46D4', 'uF46D5', 'uF46D6', 'uF46D7', 'uF46D8', 'uF46D9', 'uF46DA', 'uF46DB', 'uF46DC', 'uF46DD', 'uF46DE', 'uF46DF', 'uF46E0', 'uF46E1', 'uF46E2', 'uF46E3', 'uF46E4', 'uF46E5', 'uF46E6', 'uF46E7', 'uF46E8', 'uF46E9', 'uF46EA', 'uF46EB', 'uF46EC', 'uF46ED', 'uF46EE', 'uF46EF', 'uF46F0', 'uF46F1', 'uF46F2', 'uF46F3', 'uF46F4', 'uF46F5', 'uF46F6', 'uF46F7', 'uF46F8', 'uF46F9', 'uF46FA', 'uF46FB', 'uF46FC', 'uF46FD', 'uF46FE', 'uF46FF', 'uF4700', 'uF4701', 'uF4702', 'uF4703', 'uF4704', 'uF4705', 'uF4706', 'uF4707', 'uF4708', 'uF4709', 'uF470A', 'uF470B', 'uF470C', 'uF470D', 'uF470E', 'uF470F', 'uF4710', 'uF4711', 'uF4712', 'uF4713', 'uF4714', 'uF4715', 'uF4716', 'uF4717', 'uF4718', 'uF4719', 'uF471A', 'uF471B', 'uF471C', 'uF471D', 'uF471E', 'uF471F', 'uF4720', 'uF4721', 'uF4722', 'uF4723', 'uF4724', 'uF4725', 'uF4726', 'uF4727', 'uF4728', 'uF4729', 'uF472A', 'uF472B', 'uF472C', 'uF472D', 'uF472E', 'uF472F', 'uF4730', 'uF4731', 'uF4732', 'uF4733', 'uF4734', 'uF4735', 'uF4736', 'uF4737', 'uF4738', 'uF4739', 'uF473A', 'uF473B', 'uF473C', 'uF473D', 'uF473E', 'uF473F', 'uF4740', 'uF4741', 'uF4742', 'uF4743', 'uF4744', 'uF4745', 'uF4746', 'uF4747', 'uF4748', 'uF4749', 'uF474A', 'uF474B', 'uF474C', 'uF474D', 'uF474E', 'uF474F', 'uF4750', 'uF4751', 'uF4752', 'uF4753', 'uF4754', 'uF4755', 'uF4756', 'uF4757', 'uF4758', 'uF4759', 'uF475A', 'uF475B', 'uF475C', 'uF475D', 'uF475E', 'uF475F', 'uF4760', 'uF4761', 'uF4762', 'uF4763', 'uF4764', 'uF4765', 'uF4766', 'uF4767', 'uF4768', 'uF4769', 'uF476A', 'uF476B', 'uF476C', 'uF476D', 'uF476E', 'uF476F', 'uF4770', 'uF4771', 'uF4772', 'uF4773', 'uF4774', 'uF4775', 'uF4776', 'uF4777', 'uF4778', 'uF4779', 'uF477A', 'uF477B', 'uF477C', 'uF477D', 'uF477E', 'uF477F', 'uF4780', 'uF4781', 'uF4782', 'uF4783', 'uF4784', 'uF4785', 'uF4786', 'uF4787', 'uF4788', 'uF4789', 'uF478A', 'uF478B', 'uF478C', 'uF478D', 'uF478E', 'uF478F', 'uF4790', 'uF4791', 'uF4792', 'uF4793', 'uF4794', 'uF4795', 'uF4796', 'uF4797', 'uF4798', 'uF4799', 'uF479A', 'uF479B', 'uF479C', 'uF479D', 'uF479E', 'uF479F', 'uF47A0', 'uF47A1', 'uF47A2', 'uF47A3', 'uF47A4', 'uF47A5', 'uF47A6', 'uF47A7', 'uF47A8', 'uF47A9', 'uF47AA', 'uF47AB', 'uF47AC', 'uF47AD', 'uF47AE', 'uF47AF', 'uF47B0', 'uF47B1', 'uF47B2', 'uF47B3', 'uF47B4', 'uF47B5', 'uF47B6', 'uF47B7', 'uF47B8', 'uF47B9', 'uF47BA', 'uF47BB', 'uF47BC', 'uF47BD', 'uF47BE', 'uF47BF', 'uF47C0', 'uF47C1', 'uF47C2', 'uF47C3', 'uF47C4', 'uF47C5', 'uF47C6', 'uF47C7', 'uF47C8', 'uF47C9', 'uF47CA', 'uF47CB', 'uF47CC', 'uF47CD', 'uF47CE', 'uF47CF', 'uF47D0', 'uF47D1', 'uF47D2', 'uF47D3', 'uF47D4', 'uF47D5', 'uF47D6', 'uF47D7', 'uF47D8', 'uF47D9', 'uF47DA', 'uF47DB', 'uF47DC', 'uF47DD', 'uF47DE', 'uF47DF', 'uF47E0', 'uF47E1', 'uF47E2', 'uF47E3', 'uF47E4', 'uF47E5', 'uF47E6', 'uF47E7', 'uF47E8', 'uF47E9', 'uF47EA', 'uF47EB', 'uF47EC', 'uF47ED', 'uF47EE', 'uF47EF', 'uF47F0', 'uF47F1', 'uF47F2', 'uF47F3', 'uF47F4', 'uF47F5', 'uF47F6', 'uF47F7', 'uF47F8', 'uF47F9', 'uF47FA', 'uF47FB', 'uF47FC', 'uF47FD', 'uF47FE', 'uF47FF', 'uF4800', 'uF4801', 'uF4802', 'uF4803', 'uF4804', 'uF4805', 'uF4806', 'uF4807', 'uF4808', 'uF4809', 'uF480A', 'uF480B', 'uF480C', 'uF480D', 'uF480E', 'uF480F', 'uF4810', 'uF4811', 'uF4812', 'uF4813', 'uF4814', 'uF4815', 'uF4816', 'uF4817', 'uF4818', 'uF4819', 'uF481A', 'uF481B', 'uF481C', 'uF481D', 'uF481E', 'uF481F', 'uF4820', 'uF4821', 'uF4822', 'uF4823', 'uF4824', 'uF4825', 'uF4826', 'uF4827', 'uF4828', 'uF4829', 'uF482A', 'uF482B', 'uF482C', 'uF482D', 'uF482E', 'uF482F', 'uF4830', 'uF4831', 'uF4832', 'uF4833', 'uF4834', 'uF4835', 'uF4836', 'uF4837', 'uF4838', 'uF4839', 'uF483A', 'uF483B', 'uF483C', 'uF483D', 'uF483E', 'uF483F', 'uF4840', 'uF4841', 'uF4842', 'uF4843', 'uF4844', 'uF4845', 'uF4846', 'uF4847', 'uF4848', 'uF4849', 'uF484A', 'uF484B', 'uF484C', 'uF484D', 'uF484E', 'uF484F', 'uF4850', 'uF4851', 'uF4852', 'uF4853', 'uF4854', 'uF4855', 'uF4856', 'uF4857', 'uF4858', 'uF4859', 'uF485A', 'uF485B', 'uF485C', 'uF485D', 'uF485E', 'uF485F', 'uF4860', 'uF4861', 'uF4862', 'uF4863', 'uF4864', 'uF4865', 'uF4866', 'uF4867', 'uF4868', 'uF4869', 'uF486A', 'uF486B', 'uF486C', 'uF486D', 'uF486E', 'uF486F', 'uF4870', 'uF4871', 'uF4872', 'uF4873', 'uF4874', 'uF4875', 'uF4876', 'uF4877', 'uF4878', 'uF4879', 'uF487A', 'uF487B', 'uF487C', 'uF487D', 'uF487E', 'uF487F', 'uF4880', 'uF4881', 'uF4882', 'uF4883', 'uF4884', 'uF4885', 'uF4886', 'uF4887', 'uF4888', 'uF4889', 'uF488A', 'uF488B', 'uF488C', 'uF488D', 'uF488E', 'uF488F', 'uF4890', 'uF4891', 'uF4892', 'uF4893', 'uF4894', 'uF4895', 'uF4896', 'uF4897', 'uF4898', 'uF4899', 'uF489A', 'uF489B', 'uF489C', 'uF489D', 'uF489E', 'uF489F', 'uF48A0', 'uF48A1', 'uF48A2', 'uF48A3', 'uF48A4', 'uF48A5', 'uF48A6', 'uF48A7', 'uF48A8', 'uF48A9', 'uF48AA', 'uF48AB', 'uF48AC', 'uF48AD', 'uF48AE', 'uF48AF', 'uF48B0', 'uF48B1', 'uF48B2', 'uF48B3', 'uF48B4', 'uF48B5', 'uF48B6', 'uF48B7', 'uF48B8', 'uF48B9', 'uF48BA', 'uF48BB', 'uF48BC', 'uF48BD', 'uF48BE', 'uF48BF', 'uF48C0', 'uF48C1', 'uF48C2', 'uF48C3', 'uF48C4', 'uF48C5', 'uF48C6', 'uF48C7', 'uF48C8', 'uF48C9', 'uF48CA', 'uF48CB', 'uF48CC', 'uF48CD', 'uF48CE', 'uF48CF', 'uF48D0', 'uF48D1', 'uF48D2', 'uF48D3', 'uF48D4', 'uF48D5', 'uF48D6', 'uF48D7', 'uF48D8', 'uF48D9', 'uF48DA', 'uF48DB', 'uF48DC', 'uF48DD', 'uF48DE', 'uF48DF', 'uF48E0', 'uF48E1', 'uF48E2', 'uF48E3', 'uF48E4', 'uF48E5', 'uF48E6', 'uF48E7', 'uF48E8', 'uF48E9', 'uF48EA', 'uF48EB', 'uF48EC', 'uF48ED', 'uF48EE', 'uF48EF', 'uF48F0', 'uF48F1', 'uF48F2', 'uF48F3', 'uF48F4', 'uF48F5', 'uF48F6', 'uF48F7', 'uF48F8', 'uF48F9', 'uF48FA', 'uF48FB', 'uF48FC', 'uF48FD', 'uF48FE', 'uF48FF', 'uF4900', 'uF4901', 'uF4902', 'uF4903', 'uF4904', 'uF4905', 'uF4906', 'uF4907', 'uF4908', 'uF4909', 'uF490A', 'uF490B', 'uF490C', 'uF490D', 'uF490E', 'uF490F', 'uF4910', 'uF4911', 'uF4912', 'uF4913', 'uF4914', 'uF4915', 'uF4916', 'uF4917', 'uF4918', 'uF4919', 'uF491A', 'uF491B', 'uF491C', 'uF491D', 'uF491E', 'uF491F', 'uF4920', 'uF4921', 'uF4922', 'uF4923', 'uF4924', 'uF4925', 'uF4926', 'uF4927', 'uF4928', 'uF4929', 'uF492A', 'uF492B', 'uF492C', 'uF492D', 'uF492E', 'uF492F', 'uF4930', 'uF4931', 'uF4932', 'uF4933', 'uF4934', 'uF4935', 'uF4936', 'uF4937', 'uF4938', 'uF4939', 'uF493A', 'uF493B', 'uF493C', 'uF493D', 'uF493E', 'uF493F', 'uF4940', 'uF4941', 'uF4942', 'uF4943', 'uF4944', 'uF4945', 'uF4946', 'uF4947', 'uF4948', 'uF4949', 'uF494A', 'uF494B', 'uF494C', 'uF494D', 'uF494E', 'uF494F', 'uF4950', 'uF4951', 'uF4952', 'uF4953', 'uF4954', 'uF4955', 'uF4956', 'uF4957', 'uF4958', 'uF4959', 'uF495A', 'uF495B', 'uF495C', 'uF495D', 'uF495E', 'uF495F', 'uF4960', 'uF4961', 'uF4962', 'uF4963', 'uF4964', 'uF4965', 'uF4966', 'uF4967', 'uF4968', 'uF4969', 'uF496A', 'uF496B', 'uF496C', 'uF496D', 'uF496E', 'uF496F', 'uF4970', 'uF4971', 'uF4972', 'uF4973', 'uF4974', 'uF4975', 'uF4976', 'uF4977', 'uF4978', 'uF4979', 'uF497A', 'uF497B', 'uF497C', 'uF497D', 'uF497E', 'uF497F', 'uF4980', 'uF4981', 'uF4982', 'uF4983', 'uF4984', 'uF4985', 'uF4986', 'uF4987', 'uF4988', 'uF4989', 'uF498A', 'uF498B', 'uF498C', 'uF498D', 'uF498E', 'uF498F', 'uF4990', 'uF4991', 'uF4992', 'uF4993', 'uF4994', 'uF4995', 'uF4996', 'uF4997', 'uF4998', 'uF4999', 'uF499A', 'uF499B', 'uF499C', 'uF499D', 'uF499E', 'uF499F', 'uF49A0', 'uF49A1', 'uF49A2', 'uF49A3', 'uF49A4', 'uF49A5', 'uF49A6', 'uF49A7', 'uF49A8', 'uF49A9', 'uF49AA', 'uF49AB', 'uF49AC', 'uF49AD', 'uF49AE', 'uF49AF', 'uF49B0', 'uF49B1', 'uF49B2', 'uF49B3', 'uF49B4', 'uF49B5', 'uF49B6', 'uF49B7', 'uF49B8', 'uF49B9', 'uF49BA', 'uF49BB', 'uF49BC', 'uF49BD', 'uF49BE', 'uF49BF', 'uF49C0', 'uF49C1', 'uF49C2', 'uF49C3', 'uF49C4', 'uF49C5', 'uF49C6', 'uF49C7', 'uF49C8', 'uF49C9', 'uF49CA', 'uF49CB', 'uF49CC', 'uF49CD', 'uF49CE', 'uF49CF', 'uF49D0', 'uF49D1', 'uF49D2', 'uF49D3', 'uF49D4', 'uF49D5', 'uF49D6', 'uF49D7', 'uF49D8', 'uF49D9', 'uF49DA', 'uF49DB', 'uF49DC', 'uF49DD', 'uF49DE', 'uF49DF', 'uF49E0', 'uF49E1', 'uF49E2', 'uF49E3', 'uF49E4', 'uF49E5', 'uF49E6', 'uF49E7', 'uF49E8', 'uF49E9', 'uF49EA', 'uF49EB', 'uF49EC', 'uF49ED', 'uF49EE', 'uF49EF', 'uF49F0', 'uF49F1', 'uF49F2', 'uF49F3', 'uF49F4', 'uF49F5', 'uF49F6', 'uF49F7', 'uF49F8', 'uF49F9', 'uF49FA', 'uF49FB', 'uF49FC', 'uF49FD', 'uF49FE', 'uF49FF', 'uF4A00', 'uF4A01', 'uF4A02', 'uF4A03', 'uF4A04', 'uF4A05', 'uF4A06', 'uF4A07', 'uF4A08', 'uF4A09', 'uF4A0A', 'uF4A0B', 'uF4A0C', 'uF4A0D', 'uF4A0E', 'uF4A0F', 'uF4A10', 'uF4A11', 'uF4A12', 'uF4A13', 'uF4A14', 'uF4A15', 'uF4A16', 'uF4A17', 'uF4A18', 'uF4A19', 'uF4A1A', 'uF4A1B', 'uF4A1C', 'uF4A1D', 'uF4A1E', 'uF4A1F', 'uF4A20', 'uF4A21', 'uF4A22', 'uF4A23', 'uF4A24', 'uF4A25', 'uF4A26', 'uF4A27', 'uF4A28', 'uF4A29', 'uF4A2A', 'uF4A2B', 'uF4A2C', 'uF4A2D', 'uF4A2E', 'uF4A2F', 'uF4A30', 'uF4A31', 'uF4A32', 'uF4A33', 'uF4A34', 'uF4A35', 'uF4A36', 'uF4A37', 'uF4A38', 'uF4A39', 'uF4A3A', 'uF4A3B', 'uF4A3C', 'uF4A3D', 'uF4A3E', 'uF4A3F', 'uF4A40', 'uF4A41', 'uF4A42', 'uF4A43', 'uF4A44', 'uF4A45', 'uF4A46', 'uF4A47', 'uF4A48', 'uF4A49', 'uF4A4A', 'uF4A4B', 'uF4A4C', 'uF4A4D', 'uF4A4E', 'uF4A4F', 'uF4A50', 'uF4A51', 'uF4A52', 'uF4A53', 'uF4A54', 'uF4A55', 'uF4A56', 'uF4A57', 'uF4A58', 'uF4A59', 'uF4A5A', 'uF4A5B', 'uF4A5C', 'uF4A5D', 'uF4A5E', 'uF4A5F', 'uF4A60', 'uF4A61', 'uF4A62', 'uF4A63', 'uF4A64', 'uF4A65', 'uF4A66', 'uF4A67', 'uF4A68', 'uF4A69', 'uF4A6A', 'uF4A6B', 'uF4A6C', 'uF4A6D', 'uF4A6E', 'uF4A6F', 'uF4A70', 'uF4A71', 'uF4A72', 'uF4A73', 'uF4A74', 'uF4A75', 'uF4A76', 'uF4A77', 'uF4A78', 'uF4A79', 'uF4A7A', 'uF4A7B', 'uF4A7C', 'uF4A7D', 'uF4A7E', 'uF4A7F', 'uF4A80', 'uF4A81', 'uF4A82', 'uF4A83', 'uF4A84', 'uF4A85', 'uF4A86', 'uF4A87', 'uF4A88', 'uF4A89', 'uF4A8A', 'uF4A8B', 'uF4A8C', 'uF4A8D', 'uF4A8E', 'uF4A8F', 'uF4A90', 'uF4A91', 'uF4A92', 'uF4A93', 'uF4A94', 'uF4A95', 'uF4A96', 'uF4A97', 'uF4A98', 'uF4A99', 'uF4A9A', 'uF4A9B', 'uF4A9C', 'uF4A9D', 'uF4A9E', 'uF4A9F', 'uF4AA0', 'uF4AA1', 'uF4AA2', 'uF4AA3', 'uF4AA4', 'uF4AA5', 'uF4AA6', 'uF4AA7', 'uF4AA8', 'uF4AA9', 'uF4AAA', 'uF4AAB', 'uF4AAC', 'uF4AAD', 'uF4AAE', 'uF4AAF', 'uF4AB0', 'uF4AB1', 'uF4AB2', 'uF4AB3', 'uF4AB4', 'uF4AB5', 'uF4AB6', 'uF4AB7', 'uF4AB8', 'uF4AB9', 'uF4ABA', 'uF4ABB', 'uF4ABC', 'uF4ABD', 'uF4ABE', 'uF4ABF', 'uF4AC0', 'uF4AC1', 'uF4AC2', 'uF4AC3', 'uF4AC4', 'uF4AC5', 'uF4AC6', 'uF4AC7', 'uF4AC8', 'uF4AC9', 'uF4ACA', 'uF4ACB', 'uF4ACC', 'uF4ACD', 'uF4ACE', 'uF4ACF', 'uF4AD0', 'uF4AD1', 'uF4AD2', 'uF4AD3', 'uF4AD4', 'uF4AD5', 'uF4AD6', 'uF4AD7', 'uF4AD8', 'uF4AD9', 'uF4ADA', 'uF4ADB', 'uF4ADC', 'uF4ADD', 'uF4ADE', 'uF4ADF', 'uF4AE0', 'uF4AE1', 'uF4AE2', 'uF4AE3', 'uF4AE4', 'uF4AE5', 'uF4AE6', 'uF4AE7', 'uF4AE8', 'uF4AE9', 'uF4AEA', 'uF4AEB', 'uF4AEC', 'uF4AED', 'uF4AEE', 'uF4AEF', 'uF4AF0', 'uF4AF1', 'uF4AF2', 'uF4AF3', 'uF4AF4', 'uF4AF5', 'uF4AF6', 'uF4AF7', 'uF4AF8', 'uF4AF9', 'uF4AFA', 'uF4AFB', 'uF4AFC', 'uF4AFD', 'uF4AFE', 'uF4AFF', 'uF4B00', 'uF4B01', 'uF4B02', 'uF4B03', 'uF4B04', 'uF4B05', 'uF4B06', 'uF4B07', 'uF4B08', 'uF4B09', 'uF4B0A', 'uF4B0B', 'uF4B0C', 'uF4B0D', 'uF4B0E', 'uF4B0F', 'uF4B10', 'uF4B11', 'uF4B12', 'uF4B13', 'uF4B14', 'uF4B15', 'uF4B16', 'uF4B17', 'uF4B18', 'uF4B19', 'uF4B1A', 'uF4B1B', 'uF4B1C', 'uF4B1D', 'uF4B1E', 'uF4B1F', 'uF4B20', 'uF4B21', 'uF4B22', 'uF4B23', 'uF4B24', 'uF4B25', 'uF4B26', 'uF4B27', 'uF4B28', 'uF4B29', 'uF4B2A', 'uF4B2B', 'uF4B2C', 'uF4B2D', 'uF4B2E', 'uF4B2F', 'uF4B30', 'uF4B31', 'uF4B32', 'uF4B33', 'uF4B34', 'uF4B35', 'uF4B36', 'uF4B37', 'uF4B38', 'uF4B39', 'uF4B3A', 'uF4B3B', 'uF4B3C', 'uF4B3D', 'uF4B3E', 'uF4B3F', 'uF4B40', 'uF4B41', 'uF4B42', 'uF4B43', 'uF4B44', 'uF4B45', 'uF4B46', 'uF4B47', 'uF4B48', 'uF4B49', 'uF4B4A', 'uF4B4B', 'uF4B4C', 'uF4B4D', 'uF4B4E', 'uF4B4F', 'uF4B50', 'uF4B51', 'uF4B52', 'uF4B53', 'uF4B54', 'uF4B55', 'uF4B56', 'uF4B57', 'uF4B58', 'uF4B59', 'uF4B5A', 'uF4B5B', 'uF4B5C', 'uF4B5D', 'uF4B5E', 'uF4B5F', 'uF4B60', 'uF4B61', 'uF4B62', 'uF4B63', 'uF4B64', 'uF4B65', 'uF4B66', 'uF4B67', 'uF4B68', 'uF4B69', 'uF4B6A', 'uF4B6B', 'uF4B6C', 'uF4B6D', 'uF4B6E', 'uF4B6F', 'uF4B70', 'uF4B71', 'uF4B72', 'uF4B73', 'uF4B74', 'uF4B75', 'uF4B76', 'uF4B77', 'uF4B78', 'uF4B79', 'uF4B7A', 'uF4B7B', 'uF4B7C', 'uF4B7D', 'uF4B7E', 'uF4B7F', 'uF4B80', 'uF4B81', 'uF4B82', 'uF4B83', 'uF4B84', 'uF4B85', 'uF4B86', 'uF4B87', 'uF4B88', 'uF4B89', 'uF4B8A', 'uF4B8B', 'uF4B8C', 'uF4B8D', 'uF4B8E', 'uF4B8F', 'uF4B90', 'uF4B91', 'uF4B92', 'uF4B93', 'uF4B94', 'uF4B95', 'uF4B96', 'uF4B97', 'uF4B98', 'uF4B99', 'uF4B9A', 'uF4B9B', 'uF4B9C', 'uF4B9D', 'uF4B9E', 'uF4B9F', 'uF4BA0', 'uF4BA1', 'uF4BA2', 'uF4BA3', 'uF4BA4', 'uF4BA5', 'uF4BA6', 'uF4BA7', 'uF4BA8', 'uF4BA9', 'uF4BAA', 'uF4BAB', 'uF4BAC', 'uF4BAD', 'uF4BAE', 'uF4BAF', 'uF4BB0', 'uF4BB1', 'uF4BB2', 'uF4BB3', 'uF4BB4', 'uF4BB5', 'uF4BB6', 'uF4BB7', 'uF4BB8', 'uF4BB9', 'uF4BBA', 'uF4BBB', 'uF4BBC', 'uF4BBD', 'uF4BBE', 'uF4BBF', 'uF4BC0', 'uF4BC1', 'uF4BC2', 'uF4BC3', 'uF4BC4', 'uF4BC5', 'uF4BC6', 'uF4BC7', 'uF4BC8', 'uF4BC9', 'uF4BCA', 'uF4BCB', 'uF4BCC', 'uF4BCD', 'uF4BCE', 'uF4BCF', 'uF4BD0', 'uF4BD1', 'uF4BD2', 'uF4BD3', 'uF4BD4', 'uF4BD5', 'uF4BD6', 'uF4BD7', 'uF4BD8', 'uF4BD9', 'uF4BDA', 'uF4BDB', 'uF4BDC', 'uF4BDD', 'uF4BDE', 'uF4BDF', 'uF4BE0', 'uF4BE1', 'uF4BE2', 'uF4BE3', 'uF4BE4', 'uF4BE5', 'uF4BE6', 'uF4BE7', 'uF4BE8', 'uF4BE9', 'uF4BEA', 'uF4BEB', 'uF4BEC', 'uF4BED', 'uF4BEE', 'uF4BEF', 'uF4BF0', 'uF4BF1', 'uF4BF2', 'uF4BF3', 'uF4BF4', 'uF4BF5', 'uF4BF6', 'uF4BF7', 'uF4BF8', 'uF4BF9', 'uF4BFA', 'uF4BFB', 'uF4BFC', 'uF4BFD', 'uF4BFE', 'uF4BFF', 'uF4C00', 'uF4C01', 'uF4C02', 'uF4C03', 'uF4C04', 'uF4C05', 'uF4C06', 'uF4C07', 'uF4C08', 'uF4C09', 'uF4C0A', 'uF4C0B', 'uF4C0C', 'uF4C0D', 'uF4C0E', 'uF4C0F', 'uF4C10', 'uF4C11', 'uF4C12', 'uF4C13', 'uF4C14', 'uF4C15', 'uF4C16', 'uF4C17', 'uF4C18', 'uF4C19', 'uF4C1A', 'uF4C1B', 'uF4C1C', 'uF4C1D', 'uF4C1E', 'uF4C1F', 'uF4C20', 'uF4C21', 'uF4C22', 'uF4C23', 'uF4C24', 'uF4C25', 'uF4C26', 'uF4C27', 'uF4C28', 'uF4C29', 'uF4C2A', 'uF4C2B', 'uF4C2C', 'uF4C2D', 'uF4C2E', 'uF4C2F', 'uF4C30', 'uF4C31', 'uF4C32', 'uF4C33', 'uF4C34', 'uF4C35', 'uF4C36', 'uF4C37', 'uF4C38', 'uF4C39', 'uF4C3A', 'uF4C3B', 'uF4C3C', 'uF4C3D', 'uF4C3E', 'uF4C3F', 'uF4C40', 'uF4C41', 'uF4C42', 'uF4C43', 'uF4C44', 'uF4C45', 'uF4C46', 'uF4C47', 'uF4C48', 'uF4C49', 'uF4C4A', 'uF4C4B', 'uF4C4C', 'uF4C4D', 'uF4C4E', 'uF4C4F', 'uF4C50', 'uF4C51', 'uF4C52', 'uF4C53', 'uF4C54', 'uF4C55', 'uF4C56', 'uF4C57', 'uF4C58', 'uF4C59', 'uF4C5A', 'uF4C5B', 'uF4C5C', 'uF4C5D', 'uF4C5E', 'uF4C5F', 'uF4C60', 'uF4C61', 'uF4C62', 'uF4C63', 'uF4C64', 'uF4C65', 'uF4C66', 'uF4C67', 'uF4C68', 'uF4C69', 'uF4C6A', 'uF4C6B', 'uF4C6C', 'uF4C6D', 'uF4C6E', 'uF4C6F', 'uF4C70', 'uF4C71', 'uF4C72', 'uF4C73', 'uF4C74', 'uF4C75', 'uF4C76', 'uF4C77', 'uF4C78', 'uF4C79', 'uF4C7A', 'uF4C7B', 'uF4C7C', 'uF4C7D', 'uF4C7E', 'uF4C7F', 'uF4C80', 'uF4C81', 'uF4C82', 'uF4C83', 'uF4C84', 'uF4C85', 'uF4C86', 'uF4C87', 'uF4C88', 'uF4C89', 'uF4C8A', 'uF4C8B', 'uF4C8C', 'uF4C8D', 'uF4C8E', 'uF4C8F', 'uF4C90', 'uF4C91', 'uF4C92', 'uF4C93', 'uF4C94', 'uF4C95', 'uF4C96', 'uF4C97', 'uF4C98', 'uF4C99', 'uF4C9A', 'uF4C9B', 'uF4C9C', 'uF4C9D', 'uF4C9E', 'uF4C9F', 'uF4CA0', 'uF4CA1', 'uF4CA2', 'uF4CA3', 'uF4CA4', 'uF4CA5', 'uF4CA6', 'uF4CA7', 'uF4CA8', 'uF4CA9', 'uF4CAA', 'uF4CAB', 'uF4CAC', 'uF4CAD', 'uF4CAE', 'uF4CAF', 'uF4CB0', 'uF4CB1', 'uF4CB2', 'uF4CB3', 'uF4CB4', 'uF4CB5', 'uF4CB6', 'uF4CB7', 'uF4CB8', 'uF4CB9', 'uF4CBA', 'uF4CBB', 'uF4CBC', 'uF4CBD', 'uF4CBE', 'uF4CBF', 'uF4CC0', 'uF4CC1', 'uF4CC2', 'uF4CC3', 'uF4CC4', 'uF4CC5', 'uF4CC6', 'uF4CC7', 'uF4CC8', 'uF4CC9', 'uF4CCA', 'uF4CCB', 'uF4CCC', 'uF4CCD', 'uF4CCE', 'uF4CCF', 'uF4CD0', 'uF4CD1', 'uF4CD2', 'uF4CD3', 'uF4CD4', 'uF4CD5', 'uF4CD6', 'uF4CD7', 'uF4CD8', 'uF4CD9', 'uF4CDA', 'uF4CDB', 'uF4CDC', 'uF4CDD', 'uF4CDE', 'uF4CDF', 'uF4CE0', 'uF4CE1', 'uF4CE2', 'uF4CE3', 'uF4CE4', 'uF4CE5', 'uF4CE6', 'uF4CE7', 'uF4CE8', 'uF4CE9', 'uF4CEA', 'uF4CEB', 'uF4CEC', 'uF4CED', 'uF4CEE', 'uF4CEF', 'uF4CF0', 'uF4CF1', 'uF4CF2', 'uF4CF3', 'uF4CF4', 'uF4CF5', 'uF4CF6', 'uF4CF7', 'uF4CF8', 'uF4CF9', 'uF4CFA', 'uF4CFB', 'uF4CFC', 'uF4CFD', 'uF4CFE', 'uF4CFF', 'uF4D00', 'uF4D01', 'uF4D02', 'uF4D03', 'uF4D04', 'uF4D05', 'uF4D06', 'uF4D07', 'uF4D08', 'uF4D09', 'uF4D0A', 'uF4D0B', 'uF4D0C', 'uF4D0D', 'uF4D0E', 'uF4D0F', 'uF4D10', 'uF4D11', 'uF4D12', 'uF4D13', 'uF4D14', 'uF4D15', 'uF4D16', 'uF4D17', 'uF4D18', 'uF4D19', 'uF4D1A', 'uF4D1B', 'uF4D1C', 'uF4D1D', 'uF4D1E', 'uF4D1F', 'uF4D20', 'uF4D21', 'uF4D22', 'uF4D23', 'uF4D24', 'uF4D25', 'uF4D26', 'uF4D27', 'uF4D28', 'uF4D29', 'uF4D2A', 'uF4D2B', 'uF4D2C', 'uF4D2D', 'uF4D2E', 'uF4D2F', 'uF4D30', 'uF4D31', 'uF4D32', 'uF4D33', 'uF4D34', 'uF4D35', 'uF4D36', 'uF4D37', 'uF4D38', 'uF4D39', 'uF4D3A', 'uF4D3B', 'uF4D3C', 'uF4D3D', 'uF4D3E']\n",
      "The datasest have:  7581  images\n"
     ]
    }
   ],
   "source": [
    "trainloader, classes, dataset_sizes = create_dataset(data_root, transform)\n",
    "print('Classes: ',  classes)\n",
    "print('The datasest have: ',  dataset_sizes ,\" images\")"
   ]
  },
  {
   "cell_type": "code",
   "execution_count": null,
   "metadata": {
    "id": "ZhTVi06nxbvV"
   },
   "outputs": [],
   "source": [
    "class Net(nn.Module):\n",
    "\n",
    "    def __init__(self, n_classes):\n",
    "        super(Net, self).__init__()\n",
    "        \n",
    "        self.convolutional = nn.Sequential(            \n",
    "            nn.Conv2d(in_channels=1, out_channels=6, kernel_size=5, stride=1),\n",
    "            nn.Tanh(),\n",
    "            nn.AvgPool2d(kernel_size=2),\n",
    "            nn.Conv2d(in_channels=6, out_channels=16, kernel_size=5, stride=1),\n",
    "            nn.Tanh(),\n",
    "            nn.AvgPool2d(kernel_size=2),\n",
    "            nn.Conv2d(in_channels=16, out_channels=120, kernel_size=5, stride=1),\n",
    "            nn.Tanh()\n",
    "        )\n",
    "\n",
    "        self.linear = nn.Sequential(\n",
    "            nn.Linear(in_features=120, out_features=84),\n",
    "            nn.Tanh(),\n",
    "            nn.Linear(in_features=84, out_features=n_classes),\n",
    "        )\n",
    "\n",
    "\n",
    "    def forward(self, x):\n",
    "        x = self.convolutional(x)\n",
    "        x = torch.flatten(x, 1)\n",
    "        logits = self.linear(x)\n",
    "        probs = F.softmax(logits, dim=1)\n",
    "        return logits, probs"
   ]
  },
  {
   "cell_type": "code",
   "execution_count": null,
   "metadata": {
    "id": "ExiYlga8chxX"
   },
   "outputs": [],
   "source": [
    "\n",
    "model = Net(N_CLASSES).to(DEVICE)\n",
    "optimizer = torch.optim.Adam(model.parameters(), lr=LEARNING_RATE)\n",
    "criterion = nn.CrossEntropyLoss()"
   ]
  },
  {
   "cell_type": "code",
   "execution_count": null,
   "metadata": {
    "colab": {
     "base_uri": "https://localhost:8080/"
    },
    "id": "yxT13zYVclLA",
    "outputId": "ddadcbb3-bd1f-4122-a3d7-733b36092f07"
   },
   "outputs": [
    {
     "name": "stdout",
     "output_type": "stream",
     "text": [
      "10:15:42 --- Epoch: 0\tTrain loss: 8.9429\tTrain accuracy: 0.01\t\n",
      "10:16:15 --- Epoch: 1\tTrain loss: 8.9366\tTrain accuracy: 0.00\t\n",
      "10:16:49 --- Epoch: 2\tTrain loss: 8.9276\tTrain accuracy: 0.04\t\n",
      "10:17:23 --- Epoch: 3\tTrain loss: 8.9100\tTrain accuracy: 0.07\t\n",
      "10:17:56 --- Epoch: 4\tTrain loss: 8.8589\tTrain accuracy: 0.09\t\n",
      "10:18:30 --- Epoch: 5\tTrain loss: 8.7750\tTrain accuracy: 0.08\t\n",
      "10:19:04 --- Epoch: 6\tTrain loss: 8.6780\tTrain accuracy: 0.12\t\n",
      "10:19:38 --- Epoch: 7\tTrain loss: 8.5843\tTrain accuracy: 0.16\t\n",
      "10:20:11 --- Epoch: 8\tTrain loss: 8.4979\tTrain accuracy: 0.17\t\n",
      "10:20:44 --- Epoch: 9\tTrain loss: 8.4188\tTrain accuracy: 0.24\t\n",
      "10:21:18 --- Epoch: 10\tTrain loss: 8.3464\tTrain accuracy: 0.22\t\n",
      "10:21:51 --- Epoch: 11\tTrain loss: 8.2795\tTrain accuracy: 0.24\t\n",
      "10:22:25 --- Epoch: 12\tTrain loss: 8.2174\tTrain accuracy: 0.29\t\n",
      "10:22:58 --- Epoch: 13\tTrain loss: 8.1587\tTrain accuracy: 0.34\t\n",
      "10:23:31 --- Epoch: 14\tTrain loss: 8.1032\tTrain accuracy: 0.41\t\n",
      "10:24:05 --- Epoch: 15\tTrain loss: 8.0504\tTrain accuracy: 0.54\t\n",
      "10:24:38 --- Epoch: 16\tTrain loss: 7.9996\tTrain accuracy: 0.59\t\n",
      "10:25:11 --- Epoch: 17\tTrain loss: 7.9506\tTrain accuracy: 0.74\t\n",
      "10:25:44 --- Epoch: 18\tTrain loss: 7.9031\tTrain accuracy: 0.84\t\n",
      "10:26:17 --- Epoch: 19\tTrain loss: 7.8567\tTrain accuracy: 1.15\t\n",
      "10:26:49 --- Epoch: 20\tTrain loss: 7.8116\tTrain accuracy: 1.27\t\n",
      "10:27:22 --- Epoch: 21\tTrain loss: 7.7676\tTrain accuracy: 1.52\t\n",
      "10:27:55 --- Epoch: 22\tTrain loss: 7.7238\tTrain accuracy: 1.81\t\n",
      "10:28:28 --- Epoch: 23\tTrain loss: 7.6812\tTrain accuracy: 2.04\t\n",
      "10:29:01 --- Epoch: 24\tTrain loss: 7.6388\tTrain accuracy: 2.44\t\n",
      "10:29:34 --- Epoch: 25\tTrain loss: 7.5972\tTrain accuracy: 2.82\t\n",
      "10:30:08 --- Epoch: 26\tTrain loss: 7.5558\tTrain accuracy: 3.19\t\n",
      "10:30:42 --- Epoch: 27\tTrain loss: 7.5149\tTrain accuracy: 3.51\t\n",
      "10:31:15 --- Epoch: 28\tTrain loss: 7.4744\tTrain accuracy: 4.01\t\n",
      "10:31:48 --- Epoch: 29\tTrain loss: 7.4340\tTrain accuracy: 4.54\t\n",
      "10:32:21 --- Epoch: 30\tTrain loss: 7.3940\tTrain accuracy: 5.07\t\n",
      "10:32:53 --- Epoch: 31\tTrain loss: 7.3543\tTrain accuracy: 5.63\t\n",
      "10:33:28 --- Epoch: 32\tTrain loss: 7.3145\tTrain accuracy: 6.24\t\n",
      "10:34:01 --- Epoch: 33\tTrain loss: 7.2750\tTrain accuracy: 6.87\t\n",
      "10:34:36 --- Epoch: 34\tTrain loss: 7.2356\tTrain accuracy: 7.23\t\n",
      "10:35:09 --- Epoch: 35\tTrain loss: 7.1965\tTrain accuracy: 8.23\t\n",
      "10:35:42 --- Epoch: 36\tTrain loss: 7.1577\tTrain accuracy: 8.47\t\n",
      "10:36:16 --- Epoch: 37\tTrain loss: 7.1184\tTrain accuracy: 9.44\t\n",
      "10:36:49 --- Epoch: 38\tTrain loss: 7.0798\tTrain accuracy: 10.14\t\n",
      "10:37:23 --- Epoch: 39\tTrain loss: 7.0409\tTrain accuracy: 10.78\t\n",
      "10:37:56 --- Epoch: 40\tTrain loss: 7.0024\tTrain accuracy: 11.44\t\n",
      "10:38:30 --- Epoch: 41\tTrain loss: 6.9638\tTrain accuracy: 12.35\t\n",
      "10:39:03 --- Epoch: 42\tTrain loss: 6.9253\tTrain accuracy: 13.28\t\n",
      "10:39:36 --- Epoch: 43\tTrain loss: 6.8872\tTrain accuracy: 13.57\t\n",
      "10:40:10 --- Epoch: 44\tTrain loss: 6.8489\tTrain accuracy: 14.76\t\n",
      "10:40:43 --- Epoch: 45\tTrain loss: 6.8106\tTrain accuracy: 15.51\t\n",
      "10:41:15 --- Epoch: 46\tTrain loss: 6.7727\tTrain accuracy: 16.07\t\n",
      "10:41:48 --- Epoch: 47\tTrain loss: 6.7348\tTrain accuracy: 17.04\t\n",
      "10:42:22 --- Epoch: 48\tTrain loss: 6.6970\tTrain accuracy: 18.15\t\n",
      "10:42:56 --- Epoch: 49\tTrain loss: 6.6593\tTrain accuracy: 19.39\t\n",
      "10:43:29 --- Epoch: 50\tTrain loss: 6.6213\tTrain accuracy: 19.98\t\n",
      "10:44:03 --- Epoch: 51\tTrain loss: 6.5843\tTrain accuracy: 20.97\t\n",
      "10:44:36 --- Epoch: 52\tTrain loss: 6.5467\tTrain accuracy: 21.44\t\n",
      "10:45:11 --- Epoch: 53\tTrain loss: 6.5093\tTrain accuracy: 22.83\t\n",
      "10:45:45 --- Epoch: 54\tTrain loss: 6.4724\tTrain accuracy: 24.14\t\n",
      "10:46:18 --- Epoch: 55\tTrain loss: 6.4352\tTrain accuracy: 24.75\t\n",
      "10:46:51 --- Epoch: 56\tTrain loss: 6.3983\tTrain accuracy: 25.70\t\n",
      "10:47:25 --- Epoch: 57\tTrain loss: 6.3616\tTrain accuracy: 26.41\t\n",
      "10:47:59 --- Epoch: 58\tTrain loss: 6.3250\tTrain accuracy: 27.77\t\n",
      "10:48:33 --- Epoch: 59\tTrain loss: 6.2882\tTrain accuracy: 28.69\t\n",
      "10:49:07 --- Epoch: 60\tTrain loss: 6.2519\tTrain accuracy: 29.53\t\n",
      "10:49:40 --- Epoch: 61\tTrain loss: 6.2159\tTrain accuracy: 30.84\t\n",
      "10:50:14 --- Epoch: 62\tTrain loss: 6.1794\tTrain accuracy: 31.68\t\n",
      "10:50:47 --- Epoch: 63\tTrain loss: 6.1434\tTrain accuracy: 33.50\t\n",
      "10:51:20 --- Epoch: 64\tTrain loss: 6.1074\tTrain accuracy: 34.51\t\n",
      "10:51:54 --- Epoch: 65\tTrain loss: 6.0718\tTrain accuracy: 35.56\t\n",
      "10:52:28 --- Epoch: 66\tTrain loss: 6.0359\tTrain accuracy: 36.47\t\n",
      "10:53:01 --- Epoch: 67\tTrain loss: 6.0008\tTrain accuracy: 37.53\t\n",
      "10:53:35 --- Epoch: 68\tTrain loss: 5.9653\tTrain accuracy: 37.71\t\n",
      "10:54:08 --- Epoch: 69\tTrain loss: 5.9299\tTrain accuracy: 39.24\t\n",
      "10:54:41 --- Epoch: 70\tTrain loss: 5.8947\tTrain accuracy: 39.60\t\n",
      "10:55:14 --- Epoch: 71\tTrain loss: 5.8598\tTrain accuracy: 41.76\t\n",
      "10:55:48 --- Epoch: 72\tTrain loss: 5.8249\tTrain accuracy: 40.97\t\n",
      "10:56:23 --- Epoch: 73\tTrain loss: 5.7903\tTrain accuracy: 42.83\t\n",
      "10:56:57 --- Epoch: 74\tTrain loss: 5.7558\tTrain accuracy: 43.50\t\n",
      "10:57:31 --- Epoch: 75\tTrain loss: 5.7214\tTrain accuracy: 43.98\t\n",
      "10:58:05 --- Epoch: 76\tTrain loss: 5.6868\tTrain accuracy: 45.28\t\n",
      "10:58:39 --- Epoch: 77\tTrain loss: 5.6528\tTrain accuracy: 46.96\t\n",
      "10:59:13 --- Epoch: 78\tTrain loss: 5.6186\tTrain accuracy: 47.37\t\n",
      "10:59:47 --- Epoch: 79\tTrain loss: 5.5850\tTrain accuracy: 48.78\t\n",
      "11:00:22 --- Epoch: 80\tTrain loss: 5.5512\tTrain accuracy: 49.07\t\n",
      "11:00:56 --- Epoch: 81\tTrain loss: 5.5176\tTrain accuracy: 49.80\t\n",
      "11:01:30 --- Epoch: 82\tTrain loss: 5.4840\tTrain accuracy: 51.09\t\n",
      "11:02:03 --- Epoch: 83\tTrain loss: 5.4508\tTrain accuracy: 51.75\t\n",
      "11:02:37 --- Epoch: 84\tTrain loss: 5.4177\tTrain accuracy: 52.71\t\n",
      "11:03:11 --- Epoch: 85\tTrain loss: 5.3845\tTrain accuracy: 53.90\t\n",
      "11:03:45 --- Epoch: 86\tTrain loss: 5.3517\tTrain accuracy: 53.79\t\n",
      "11:04:19 --- Epoch: 87\tTrain loss: 5.3189\tTrain accuracy: 55.01\t\n",
      "11:04:53 --- Epoch: 88\tTrain loss: 5.2863\tTrain accuracy: 55.81\t\n",
      "11:05:27 --- Epoch: 89\tTrain loss: 5.2537\tTrain accuracy: 55.89\t\n",
      "11:06:01 --- Epoch: 90\tTrain loss: 5.2216\tTrain accuracy: 57.45\t\n",
      "11:06:35 --- Epoch: 91\tTrain loss: 5.1894\tTrain accuracy: 57.54\t\n",
      "11:07:09 --- Epoch: 92\tTrain loss: 5.1575\tTrain accuracy: 58.87\t\n",
      "11:07:43 --- Epoch: 93\tTrain loss: 5.1254\tTrain accuracy: 59.39\t\n",
      "11:08:16 --- Epoch: 94\tTrain loss: 5.0937\tTrain accuracy: 60.01\t\n",
      "11:08:49 --- Epoch: 95\tTrain loss: 5.0620\tTrain accuracy: 60.89\t\n",
      "11:09:22 --- Epoch: 96\tTrain loss: 5.0304\tTrain accuracy: 61.21\t\n",
      "11:09:55 --- Epoch: 97\tTrain loss: 4.9995\tTrain accuracy: 61.92\t\n",
      "11:10:29 --- Epoch: 98\tTrain loss: 4.9680\tTrain accuracy: 62.46\t\n",
      "11:11:03 --- Epoch: 99\tTrain loss: 4.9370\tTrain accuracy: 63.03\t\n",
      "11:11:37 --- Epoch: 100\tTrain loss: 4.9061\tTrain accuracy: 63.42\t\n",
      "11:12:10 --- Epoch: 101\tTrain loss: 4.8753\tTrain accuracy: 64.00\t\n",
      "11:12:44 --- Epoch: 102\tTrain loss: 4.8449\tTrain accuracy: 64.33\t\n",
      "11:13:17 --- Epoch: 103\tTrain loss: 4.8145\tTrain accuracy: 65.14\t\n",
      "11:13:51 --- Epoch: 104\tTrain loss: 4.7840\tTrain accuracy: 65.62\t\n",
      "11:14:25 --- Epoch: 105\tTrain loss: 4.7538\tTrain accuracy: 65.94\t\n",
      "11:14:59 --- Epoch: 106\tTrain loss: 4.7238\tTrain accuracy: 66.56\t\n",
      "11:15:33 --- Epoch: 107\tTrain loss: 4.6938\tTrain accuracy: 67.27\t\n",
      "11:16:07 --- Epoch: 108\tTrain loss: 4.6643\tTrain accuracy: 67.60\t\n",
      "11:16:41 --- Epoch: 109\tTrain loss: 4.6346\tTrain accuracy: 68.04\t\n",
      "11:17:14 --- Epoch: 110\tTrain loss: 4.6053\tTrain accuracy: 68.45\t\n",
      "11:17:47 --- Epoch: 111\tTrain loss: 4.5757\tTrain accuracy: 68.62\t\n",
      "11:18:20 --- Epoch: 112\tTrain loss: 4.5468\tTrain accuracy: 69.33\t\n",
      "11:18:53 --- Epoch: 113\tTrain loss: 4.5179\tTrain accuracy: 69.46\t\n",
      "11:19:26 --- Epoch: 114\tTrain loss: 4.4888\tTrain accuracy: 70.33\t\n",
      "11:19:59 --- Epoch: 115\tTrain loss: 4.4604\tTrain accuracy: 70.29\t\n",
      "11:20:32 --- Epoch: 116\tTrain loss: 4.4318\tTrain accuracy: 70.98\t\n",
      "11:21:05 --- Epoch: 117\tTrain loss: 4.4034\tTrain accuracy: 71.40\t\n",
      "11:21:38 --- Epoch: 118\tTrain loss: 4.3751\tTrain accuracy: 71.71\t\n",
      "11:22:12 --- Epoch: 119\tTrain loss: 4.3467\tTrain accuracy: 72.10\t\n",
      "11:22:44 --- Epoch: 120\tTrain loss: 4.3188\tTrain accuracy: 72.29\t\n",
      "11:23:17 --- Epoch: 121\tTrain loss: 4.2912\tTrain accuracy: 72.85\t\n",
      "11:23:50 --- Epoch: 122\tTrain loss: 4.2635\tTrain accuracy: 72.76\t\n",
      "11:24:23 --- Epoch: 123\tTrain loss: 4.2359\tTrain accuracy: 73.10\t\n",
      "11:24:55 --- Epoch: 124\tTrain loss: 4.2085\tTrain accuracy: 73.59\t\n",
      "11:25:28 --- Epoch: 125\tTrain loss: 4.1813\tTrain accuracy: 74.08\t\n",
      "11:26:01 --- Epoch: 126\tTrain loss: 4.1543\tTrain accuracy: 73.95\t\n",
      "11:26:34 --- Epoch: 127\tTrain loss: 4.1273\tTrain accuracy: 74.26\t\n",
      "11:27:06 --- Epoch: 128\tTrain loss: 4.1007\tTrain accuracy: 74.28\t\n",
      "11:27:39 --- Epoch: 129\tTrain loss: 4.0738\tTrain accuracy: 74.96\t\n",
      "11:28:12 --- Epoch: 130\tTrain loss: 4.0473\tTrain accuracy: 75.17\t\n",
      "11:28:44 --- Epoch: 131\tTrain loss: 4.0209\tTrain accuracy: 75.35\t\n",
      "11:29:17 --- Epoch: 132\tTrain loss: 3.9946\tTrain accuracy: 75.57\t\n",
      "11:29:49 --- Epoch: 133\tTrain loss: 3.9684\tTrain accuracy: 76.02\t\n",
      "11:30:22 --- Epoch: 134\tTrain loss: 3.9424\tTrain accuracy: 76.24\t\n",
      "11:30:56 --- Epoch: 135\tTrain loss: 3.9167\tTrain accuracy: 76.52\t\n",
      "11:31:30 --- Epoch: 136\tTrain loss: 3.8911\tTrain accuracy: 76.67\t\n",
      "11:32:02 --- Epoch: 137\tTrain loss: 3.8655\tTrain accuracy: 76.98\t\n",
      "11:32:34 --- Epoch: 138\tTrain loss: 3.8403\tTrain accuracy: 76.89\t\n",
      "11:33:06 --- Epoch: 139\tTrain loss: 3.8149\tTrain accuracy: 77.21\t\n",
      "11:33:39 --- Epoch: 140\tTrain loss: 3.7898\tTrain accuracy: 77.64\t\n",
      "11:34:12 --- Epoch: 141\tTrain loss: 3.7648\tTrain accuracy: 77.50\t\n",
      "11:34:44 --- Epoch: 142\tTrain loss: 3.7402\tTrain accuracy: 78.02\t\n",
      "11:35:15 --- Epoch: 143\tTrain loss: 3.7152\tTrain accuracy: 77.94\t\n",
      "11:35:47 --- Epoch: 144\tTrain loss: 3.6908\tTrain accuracy: 78.25\t\n",
      "11:36:20 --- Epoch: 145\tTrain loss: 3.6665\tTrain accuracy: 78.47\t\n",
      "11:36:53 --- Epoch: 146\tTrain loss: 3.6421\tTrain accuracy: 78.62\t\n",
      "11:37:25 --- Epoch: 147\tTrain loss: 3.6180\tTrain accuracy: 78.64\t\n",
      "11:37:57 --- Epoch: 148\tTrain loss: 3.5943\tTrain accuracy: 78.88\t\n",
      "11:38:30 --- Epoch: 149\tTrain loss: 3.5705\tTrain accuracy: 78.97\t\n",
      "11:39:02 --- Epoch: 150\tTrain loss: 3.5466\tTrain accuracy: 79.45\t\n",
      "11:39:34 --- Epoch: 151\tTrain loss: 3.5232\tTrain accuracy: 79.34\t\n",
      "11:40:07 --- Epoch: 152\tTrain loss: 3.4996\tTrain accuracy: 79.45\t\n",
      "11:40:39 --- Epoch: 153\tTrain loss: 3.4765\tTrain accuracy: 79.94\t\n",
      "11:41:11 --- Epoch: 154\tTrain loss: 3.4537\tTrain accuracy: 79.95\t\n",
      "11:41:44 --- Epoch: 155\tTrain loss: 3.4304\tTrain accuracy: 80.29\t\n",
      "11:42:17 --- Epoch: 156\tTrain loss: 3.4077\tTrain accuracy: 80.42\t\n",
      "11:42:49 --- Epoch: 157\tTrain loss: 3.3851\tTrain accuracy: 80.54\t\n",
      "11:43:21 --- Epoch: 158\tTrain loss: 3.3626\tTrain accuracy: 80.69\t\n",
      "11:43:53 --- Epoch: 159\tTrain loss: 3.3402\tTrain accuracy: 81.08\t\n",
      "11:44:26 --- Epoch: 160\tTrain loss: 3.3181\tTrain accuracy: 81.10\t\n",
      "11:44:58 --- Epoch: 161\tTrain loss: 3.2960\tTrain accuracy: 81.26\t\n",
      "11:45:31 --- Epoch: 162\tTrain loss: 3.2738\tTrain accuracy: 81.20\t\n",
      "11:46:03 --- Epoch: 163\tTrain loss: 3.2521\tTrain accuracy: 81.24\t\n",
      "11:46:35 --- Epoch: 164\tTrain loss: 3.2303\tTrain accuracy: 81.55\t\n",
      "11:47:08 --- Epoch: 165\tTrain loss: 3.2092\tTrain accuracy: 81.72\t\n",
      "11:47:41 --- Epoch: 166\tTrain loss: 3.1876\tTrain accuracy: 81.92\t\n",
      "11:48:13 --- Epoch: 167\tTrain loss: 3.1663\tTrain accuracy: 81.97\t\n",
      "11:48:45 --- Epoch: 168\tTrain loss: 3.1450\tTrain accuracy: 81.95\t\n",
      "11:49:18 --- Epoch: 169\tTrain loss: 3.1240\tTrain accuracy: 82.14\t\n",
      "11:49:50 --- Epoch: 170\tTrain loss: 3.1033\tTrain accuracy: 82.27\t\n",
      "11:50:22 --- Epoch: 171\tTrain loss: 3.0825\tTrain accuracy: 82.42\t\n",
      "11:50:53 --- Epoch: 172\tTrain loss: 3.0619\tTrain accuracy: 82.47\t\n",
      "11:51:25 --- Epoch: 173\tTrain loss: 3.0414\tTrain accuracy: 82.59\t\n",
      "11:51:57 --- Epoch: 174\tTrain loss: 3.0212\tTrain accuracy: 82.64\t\n",
      "11:52:29 --- Epoch: 175\tTrain loss: 3.0011\tTrain accuracy: 82.85\t\n",
      "11:53:01 --- Epoch: 176\tTrain loss: 2.9810\tTrain accuracy: 83.06\t\n",
      "11:53:33 --- Epoch: 177\tTrain loss: 2.9608\tTrain accuracy: 82.96\t\n",
      "11:54:04 --- Epoch: 178\tTrain loss: 2.9412\tTrain accuracy: 83.19\t\n",
      "11:54:36 --- Epoch: 179\tTrain loss: 2.9214\tTrain accuracy: 83.05\t\n",
      "11:55:07 --- Epoch: 180\tTrain loss: 2.9020\tTrain accuracy: 83.41\t\n",
      "11:55:39 --- Epoch: 181\tTrain loss: 2.8824\tTrain accuracy: 83.39\t\n",
      "11:56:10 --- Epoch: 182\tTrain loss: 2.8633\tTrain accuracy: 83.54\t\n",
      "11:56:42 --- Epoch: 183\tTrain loss: 2.8439\tTrain accuracy: 83.59\t\n",
      "11:57:15 --- Epoch: 184\tTrain loss: 2.8253\tTrain accuracy: 83.45\t\n",
      "11:57:46 --- Epoch: 185\tTrain loss: 2.8062\tTrain accuracy: 83.60\t\n",
      "11:58:19 --- Epoch: 186\tTrain loss: 2.7875\tTrain accuracy: 84.07\t\n",
      "11:58:51 --- Epoch: 187\tTrain loss: 2.7687\tTrain accuracy: 83.89\t\n",
      "11:59:23 --- Epoch: 188\tTrain loss: 2.7505\tTrain accuracy: 84.01\t\n",
      "11:59:54 --- Epoch: 189\tTrain loss: 2.7320\tTrain accuracy: 84.04\t\n",
      "12:00:26 --- Epoch: 190\tTrain loss: 2.7136\tTrain accuracy: 84.37\t\n",
      "12:00:59 --- Epoch: 191\tTrain loss: 2.6959\tTrain accuracy: 84.25\t\n",
      "12:01:31 --- Epoch: 192\tTrain loss: 2.6775\tTrain accuracy: 84.63\t\n",
      "12:02:03 --- Epoch: 193\tTrain loss: 2.6599\tTrain accuracy: 84.42\t\n",
      "12:02:35 --- Epoch: 194\tTrain loss: 2.6422\tTrain accuracy: 84.70\t\n",
      "12:03:07 --- Epoch: 195\tTrain loss: 2.6246\tTrain accuracy: 84.84\t\n",
      "12:03:38 --- Epoch: 196\tTrain loss: 2.6068\tTrain accuracy: 84.71\t\n",
      "12:04:10 --- Epoch: 197\tTrain loss: 2.5897\tTrain accuracy: 85.05\t\n",
      "12:04:41 --- Epoch: 198\tTrain loss: 2.5724\tTrain accuracy: 84.96\t\n",
      "12:05:13 --- Epoch: 199\tTrain loss: 2.5553\tTrain accuracy: 85.02\t\n"
     ]
    }
   ],
   "source": [
    "train_losses = []\n",
    "\n",
    "model, optimizer, _ = training_loop(model, criterion, optimizer, trainloader, \n",
    "                                    N_EPOCHS, DEVICE, train_losses)"
   ]
  },
  {
   "cell_type": "code",
   "execution_count": null,
   "metadata": {
    "id": "I_D3SQV9dHz4"
   },
   "outputs": [],
   "source": [
    "torch.save(model.state_dict(), 'your_path/state_dict.pt')\n",
    "torch.save(model, 'your_path/model.pt')"
   ]
  },
  {
   "cell_type": "code",
   "execution_count": null,
   "metadata": {
    "colab": {
     "base_uri": "https://localhost:8080/",
     "height": 297
    },
    "id": "bfdHk5KrfOpF",
    "outputId": "cd0d6c45-fdb4-4f5c-f4b1-4d6f33dd1dc9"
   },
   "outputs": [
    {
     "data": {
      "text/plain": [
       "Text(0, 0.5, 'epoch')"
      ]
     },
     "execution_count": 8,
     "metadata": {},
     "output_type": "execute_result"
    },
    {
     "data": {
      "image/png": "[encoded data removed]",
      "text/plain": [
       "<Figure size 432x288 with 1 Axes>"
      ]
     },
     "metadata": {
      "needs_background": "light"
     },
     "output_type": "display_data"
    }
   ],
   "source": [
    "fig, ax = plt.subplots()\n",
    "ax.plot(range(N_EPOCHS), train_losses)\n",
    "ax.set_xlabel('loss')\n",
    "ax.set_ylabel('epoch')"
   ]
  }
 ],
 "metadata": {
  "accelerator": "GPU",
  "colab": {
   "collapsed_sections": [],
   "name": "LeNet5+PyTorch.ipynb",
   "provenance": []
  },
  "kernelspec": {
   "display_name": "Python 3 (ipykernel)",
   "language": "python",
   "name": "python3"
  },
  "language_info": {
   "codemirror_mode": {
    "name": "ipython",
    "version": 3
   },
   "file_extension": ".py",
   "mimetype": "text/x-python",
   "name": "python",
   "nbconvert_exporter": "python",
   "pygments_lexer": "ipython3",
   "version": "3.9.7"
  }
 },
 "nbformat": 4,
 "nbformat_minor": 1
}
